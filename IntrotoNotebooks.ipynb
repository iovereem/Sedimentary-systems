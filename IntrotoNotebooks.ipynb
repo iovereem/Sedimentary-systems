{
 "cells": [
  {
   "cell_type": "markdown",
   "metadata": {},
   "source": [
    "# Basics of a Jupyter Notebook\n",
    "\n",
    "By Irina Overeem\n",
    "University of Colorado\n",
    "August 2021\n",
    "\n",
    "Adapted from original of Shelley Knuth, CU Research Computing\n",
    "\n"
   ]
  },
  {
   "cell_type": "markdown",
   "metadata": {},
   "source": [
    "## Outline\n",
    "\n",
    "\n",
    "1. General information about notebooks\n",
    "3. Formatting text in notebooks\n",
    "4. Formatting mathematics in notebooks\n",
    "5. Importing graphics\n",
    "6. Plotting"
   ]
  },
  {
   "cell_type": "markdown",
   "metadata": {},
   "source": [
    "## General Information about Notebooks\n",
    "\n",
    "\n",
    "### What is a Jupyter notebook?\n",
    "It's an interactive web platform that allows one to create and edit live code, add text descriptions, and visualizations in a document that can be easily shared and displayed.\n",
    "Jupyter Notebooks use the programming language Python 3.\n",
    "\n",
    "Notebooks are generally used as a working document, or to share codes and workflows between collaborators. \n",
    "Once you have working code in a notebook that will be used many times, then it is more useful to generate a python code file, which is simply a text file with extension *.py"
   ]
  },
  {
   "cell_type": "markdown",
   "metadata": {},
   "source": [
    "### How to Login to Notebooks for this class\n",
    "\n",
    "Use the links that are posted on canvas for each homework. They help to automatically pull from the original notebook from the instructor's code repository on GitHub\n",
    "and then start it on the CSDMS jupyter hub server\n",
    "\n",
    "https://csdms.rc.colorado.edu/\n",
    "    \n",
    "Login with your set user name and password"
   ]
  },
  {
   "cell_type": "markdown",
   "metadata": {},
   "source": [
    "### How to work with a Notebook\n",
    "\n",
    "Cells can be read either as markdown text (this write up is a markdown text cell), or they can be seen as python code.\n",
    "\n",
    "To run a code cell, hit \"shift\" and \"enter\" at the same time, this will execute the code in  that cell.\n",
    "Generally you have to execute cells from the top of the notebook in sequence to get all parts of the notebook to work. \n",
    "\n",
    "Don't be alarmed if your notebook runs for awhile - when a cell is running it indicated by [*]\n",
    "Sometimes takes awhile"
   ]
  },
  {
   "cell_type": "markdown",
   "metadata": {},
   "source": [
    "### <font color = green>Exercise 1</font>\n",
    "\n",
    "Create a new cell at this position in the notebook.\n",
    "Write one sentence on what you are planning to do this weekend in that cell."
   ]
  },
  {
   "cell_type": "markdown",
   "metadata": {},
   "source": [
    "## Formatting Text in a Notebook"
   ]
  },
  {
   "cell_type": "markdown",
   "metadata": {},
   "source": [
    "__Bold__ or **bold**  \n",
    "_italics_ or *italics*"
   ]
  },
  {
   "cell_type": "markdown",
   "metadata": {},
   "source": [
    "Jupyter notebooks are __really__ cool!  \n",
    "Jupyter notebooks are _really_ cool!"
   ]
  },
  {
   "cell_type": "markdown",
   "metadata": {},
   "source": [
    "### Headings"
   ]
  },
  {
   "cell_type": "code",
   "execution_count": 7,
   "metadata": {},
   "outputs": [],
   "source": [
    "# title \n",
    "## major headings \n",
    "### subheadings \n",
    "#### 4th level subheadings"
   ]
  },
  {
   "cell_type": "markdown",
   "metadata": {},
   "source": [
    "# What you really want to say or show in this section\n",
    "## Perhaps there are a couple of different parts to it?\n",
    "###  Or even smaller subsections..."
   ]
  },
  {
   "cell_type": "markdown",
   "metadata": {},
   "source": [
    "### Text color and size\n",
    "The sky is <font color = blue, size = 30>blue!</font>  \n",
    "Sometimes the <font color = blue>color</font> doesn't turn out <font size=30> WELL</font>"
   ]
  },
  {
   "cell_type": "markdown",
   "metadata": {},
   "source": [
    "### Indent or list your text\n",
    "> This is how!\n",
    "- This is how!\n",
    " - This is how!\n",
    "1. This is how!"
   ]
  },
  {
   "cell_type": "markdown",
   "metadata": {},
   "source": [
    "### Hyperlinks\n",
    "\n",
    "It is often useful to add links into a notebook, you can make them active!\n",
    "https://github.com/adam-p/markdown-here/wiki/Markdown-Cheatsheet  \n",
    "\n",
    "[I'm an inline-style link](https://www.google.com)\n",
    "\n",
    "[I'm a reference-style link][Arbitrary case-insensitive reference text]\n",
    "\n",
    "[I'm a relative reference to a repository file](../blob/master/LICENSE)\n",
    "\n",
    "[You can use numbers for reference-style link definitions][1]\n",
    "\n",
    "URLs and URLs in angle brackets will automatically get turned into links. \n",
    "http://www.example.com or <http://www.example.com> \n",
    "\n",
    "\n",
    "It is also possible to add literature references, you will see this pop up in future notebooks. \n",
    "The reference links can follow later in the cell, like a reference list.\n",
    "\n",
    "[arbitrary case-insensitive reference text]: https://www.mozilla.org\n",
    "[1]: http://slashdot.org\n",
    "[link text itself]: http://www.reddit.com\n",
    "\n",
    "(from https://github.com/adam-p/markdown-here/wiki/Markdown-Cheatsheet)"
   ]
  },
  {
   "cell_type": "markdown",
   "metadata": {},
   "source": [
    "## Mathematical Equations in Notebooks\n",
    "\n",
    "$F=ma$\n",
    "\n",
    "This is an equation, $x=y+z$, where $y=10$ and $z=20$  "
   ]
  },
  {
   "cell_type": "raw",
   "metadata": {},
   "source": [
    "# how this was formatted is shown here\n",
    "\n",
    "$F = ma$\n",
    "This is an equation, $x=y+z$, where $y=10$ and $z=20$"
   ]
  },
  {
   "cell_type": "markdown",
   "metadata": {},
   "source": [
    "### Superscripts and Subscripts\n",
    "$y = x^3 + x^2 + 3x$  \n",
    "$F_g = m g$  "
   ]
  },
  {
   "cell_type": "raw",
   "metadata": {},
   "source": [
    "# how this was formatted is shown here\n",
    "\n",
    "$a^2 = b^2 + c^2$\n",
    "$F_g = m g$  "
   ]
  },
  {
   "cell_type": "markdown",
   "metadata": {},
   "source": [
    "### Grouping and scientific notation\n",
    "$6.022\\times 10^{23}$ . "
   ]
  },
  {
   "cell_type": "raw",
   "metadata": {},
   "source": [
    "# how this was formatted is shown here\n",
    "\n",
    "$6.022\\times 10^{23}$ . "
   ]
  },
  {
   "cell_type": "markdown",
   "metadata": {},
   "source": [
    "### Greek Letters\n",
    "\n",
    "$\\pi = 3.1415926$  \n",
    "$\\Omega = 10$  \n",
    "$\\delta$"
   ]
  },
  {
   "cell_type": "raw",
   "metadata": {},
   "source": [
    "# how this was formatted is shown here\n",
    "\n",
    "$\\pi = 3.1415926$  \n",
    "$\\Omega = 10$\n",
    "$\\delta$"
   ]
  },
  {
   "cell_type": "markdown",
   "metadata": {},
   "source": [
    "### Special Symbols\n",
    "\n",
    "$\\pm$, $\\gg$, $\\ll$, $\\infty$  \n",
    "$i = \\sqrt{-1}$  \n",
    "$\\int_a^b$"
   ]
  },
  {
   "cell_type": "raw",
   "metadata": {},
   "source": [
    "# how this was formatted is shown here\n",
    "\n",
    "$\\pm$, $\\gg$, $\\ll$, $\\infty$\n",
    "$i = \\sqrt{-1}$  \n",
    "$\\int_a^b$"
   ]
  },
  {
   "cell_type": "markdown",
   "metadata": {},
   "source": [
    "## Fractions and Derivatives\n",
    "\n",
    "Fractions  \n",
    "$\\frac{1}{2}$\n",
    "\n",
    "Derivatives  \n",
    "$\\frac{dm}{dt}$, $\\frac{\\partial m}{\\partial t}$\n"
   ]
  },
  {
   "cell_type": "raw",
   "metadata": {},
   "source": [
    "# how this was formatted is shown here\n",
    "\n",
    "Fractions  \n",
    "$\\frac{1}{2}$\n",
    "\n",
    "Derivative  \n",
    "$\\frac{dm}{dt}$\n",
    "$\\frac{\\partial m}{\\partial t}$"
   ]
  },
  {
   "cell_type": "markdown",
   "metadata": {},
   "source": [
    "### <font color = green>Exercise 2</font>\n",
    "\n",
    "Write out the definition of the Reynolds number.\n",
    "\n",
    "List all the symbols and their SI units"
   ]
  },
  {
   "cell_type": "markdown",
   "metadata": {},
   "source": []
  },
  {
   "cell_type": "markdown",
   "metadata": {},
   "source": []
  },
  {
   "cell_type": "markdown",
   "metadata": {},
   "source": [
    "### <font color = green>Exercise 3</font>\n",
    "\n",
    "Write out an equation where the total derivative of x over y is equal to the square root of 10 added to 7/8 pi"
   ]
  },
  {
   "cell_type": "code",
   "execution_count": null,
   "metadata": {},
   "outputs": [],
   "source": []
  },
  {
   "cell_type": "markdown",
   "metadata": {},
   "source": [
    "## Basic Programming with Python"
   ]
  },
  {
   "cell_type": "code",
   "execution_count": 18,
   "metadata": {},
   "outputs": [
    {
     "name": "stdout",
     "output_type": "stream",
     "text": [
      "Hello, World!\n"
     ]
    }
   ],
   "source": [
    "#the traditional first code line everyone gets to write...\n",
    "\n",
    "print(\"Hello, World!\")"
   ]
  },
  {
   "cell_type": "markdown",
   "metadata": {},
   "source": [
    "### Variables and Datatypes in Python\n",
    "\n",
    "* Variables are not declared\n",
    "* Variables are created at assignment time\n",
    "* Variable type determined implicitly via assignment\n",
    "\n",
    "x=2          Int  \n",
    "x=2.0 .      Float  \n",
    "Z=\"hello\"    str      ( a string is noted by single or double quotes)  \n",
    "z=True       Boolean  Note capital \"T\" or \"F\"  \n",
    "\n",
    "* Can convert types using conversion functions:  int(), float(), str(), bool()\n",
    "\n",
    "* Python is case sensitive  \n",
    "* Check variable type using type function \n",
    "\n",
    "(from https://github.com/ResearchComputing/Python_Spring_2019/blob/master/session1_overview/session1_slides.pdf)"
   ]
  },
  {
   "cell_type": "code",
   "execution_count": 19,
   "metadata": {},
   "outputs": [],
   "source": [
    "a=5\n",
    "b='five'\n",
    "c=5.0"
   ]
  },
  {
   "cell_type": "code",
   "execution_count": 20,
   "metadata": {},
   "outputs": [
    {
     "data": {
      "text/plain": [
       "str"
      ]
     },
     "execution_count": 20,
     "metadata": {},
     "output_type": "execute_result"
    }
   ],
   "source": [
    "type(b)\n"
   ]
  },
  {
   "cell_type": "markdown",
   "metadata": {},
   "source": [
    "### <font color = green>Exercise 4</font>\n",
    "\n",
    "Find out what is the datatype of variable c?\n",
    "What does that mean?"
   ]
  },
  {
   "cell_type": "code",
   "execution_count": null,
   "metadata": {},
   "outputs": [],
   "source": []
  },
  {
   "cell_type": "markdown",
   "metadata": {},
   "source": [
    "## Notebook as a calculator\n",
    "\n",
    "Arithmetic in Python respects the order of operations  \n",
    "\n",
    "* Addition:        +\n",
    "* Subtraction:     -\n",
    "* Multiplication:  * \n",
    "* Division:        /  (returns float)  \n",
    "* Floor Division:  // (returns int or float; rounds down)  \n",
    "* Mod:             %  (3%2 -> 1)  \n",
    "* Exponentiation:  ** 2**4 -> 16)  \n",
    "\n",
    "You can concatenate strings using \"+\""
   ]
  },
  {
   "cell_type": "code",
   "execution_count": 25,
   "metadata": {
    "scrolled": true
   },
   "outputs": [
    {
     "data": {
      "text/plain": [
       "100.0"
      ]
     },
     "execution_count": 25,
     "metadata": {},
     "output_type": "execute_result"
    }
   ],
   "source": [
    "2*(20 + 5)/0.5"
   ]
  },
  {
   "cell_type": "code",
   "execution_count": 26,
   "metadata": {},
   "outputs": [
    {
     "name": "stdout",
     "output_type": "stream",
     "text": [
      "hello you\n"
     ]
    }
   ],
   "source": [
    "x='hello '+'you'\n",
    "print(x)"
   ]
  },
  {
   "cell_type": "markdown",
   "metadata": {},
   "source": [
    "### <font color = green>Exercise 5</font>\n",
    "\n",
    "Calculate the river discharge, Q, for a section of Boulder creek on August 25th, 2020\n",
    "\n",
    "Assign the variables width, depth and velocity.\n",
    "Assign the value of 6m, 0.5 m and 0.9 m/s respectively.  \n",
    "Print out a statement that lists the discharge and its units."
   ]
  },
  {
   "cell_type": "code",
   "execution_count": null,
   "metadata": {},
   "outputs": [],
   "source": [
    "# assign variables here"
   ]
  },
  {
   "cell_type": "code",
   "execution_count": null,
   "metadata": {},
   "outputs": [],
   "source": [
    "# do calculation and printing here"
   ]
  },
  {
   "cell_type": "code",
   "execution_count": null,
   "metadata": {},
   "outputs": [],
   "source": [
    "# now calculate discharge for a day later, when it had rained and the depth increased by 9%, and velocity increased by 5%"
   ]
  },
  {
   "cell_type": "markdown",
   "metadata": {},
   "source": [
    "### NICE YOU ARE ALL SET WITH A COUPLE OF PYTHON AND NOTEBOOK BASICS HERE!"
   ]
  }
 ],
 "metadata": {
  "kernelspec": {
   "display_name": "Python 3",
   "language": "python",
   "name": "python3"
  },
  "language_info": {
   "codemirror_mode": {
    "name": "ipython",
    "version": 3
   },
   "file_extension": ".py",
   "mimetype": "text/x-python",
   "name": "python",
   "nbconvert_exporter": "python",
   "pygments_lexer": "ipython3",
   "version": "3.7.3"
  }
 },
 "nbformat": 4,
 "nbformat_minor": 2
}
