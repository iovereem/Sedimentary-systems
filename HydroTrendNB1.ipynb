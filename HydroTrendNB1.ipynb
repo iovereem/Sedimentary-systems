{
 "cells": [
  {
   "cell_type": "markdown",
   "metadata": {},
   "source": [
    "# HydroTrend\n",
    "\n",
    "HydroTrend is a 2D hydrological water balance and transport model that simulates water discharge and sediment load at a river outlet. You can read more about the model, find references or download the C source code at: https://csdms.colorado.edu/wiki/Model:HydroTrend.\n",
    "\n",
    "This notebook has been modified by Irina Overeem, September 24, 2020.\n",
    "\n",
    "\n",
    "### River Sediment Supply Modeling\n",
    "\n",
    "This notebook is meant to give you a better understanding of what HydroTrend is capable of. In this example we are using a theoretical river basin of ~1990 km<sup>2</sup>, with 1200m of relief and a river length of\n",
    "~100 km. All parameters that are shown by default once the HydroTrend Model is loaded are based\n",
    "on a present-day, temperate climate. Whereas these runs are not meant to be specific, we are\n",
    "using parameters that are realistic for the [Waiapaoa River][map_of_waiapaoa] in New Zealand. The Waiapaoa River\n",
    "is located on North Island and receives high rain and has erodible soils, so the river sediment\n",
    "loads are exceptionally high. It has been called the *\"dirtiest small river in the world\"*.\n",
    "\n",
    "\n",
    "A more detailed description of applying HydroTrend to the Waipaoa basin, New Zealand has been published in WRR: [hydrotrend_waipaoa_paper]. \n",
    "\n",
    "\n",
    "[map_of_waiapaoa]: https://www.google.com/maps/place/Waipaoa+River/@-38.5099042,177.7668002,71814m/data=!3m1!1e3!4m5!3m4!1s0x6d65def908624859:0x2a00ef6165e1dfa0!8m2!3d-38.5392405!4d177.8843782\n",
    "[hydrotrend_presentation]: https://csdms.colorado.edu/wiki/File:SedimentSupplyModeling02_2013.ppt\n",
    "[hydrotrend_waipaoa_paper]: http://dx.doi.org/10.1029/2006WR005570"
   ]
  },
  {
   "cell_type": "markdown",
   "metadata": {},
   "source": [
    "### Run HydroTrend Simulations with pymt\n",
    "\n"
   ]
  },
  {
   "cell_type": "markdown",
   "metadata": {},
   "source": [
    "Now we will be using the capability of the Python Modeling Tool, pymt. Pymt is a Python toolkit for running and coupling Earth surface models. \n",
    "\n",
    "https://csdms.colorado.edu/wiki/PyMT\n"
   ]
  },
  {
   "cell_type": "code",
   "execution_count": 47,
   "metadata": {},
   "outputs": [],
   "source": [
    "# To start, import numpy and matplotlib.\n",
    "import matplotlib.pyplot as plt\n",
    "import numpy as np\n"
   ]
  },
  {
   "cell_type": "code",
   "execution_count": 48,
   "metadata": {},
   "outputs": [],
   "source": [
    "# Then we import the pymt package \n",
    "import pymt.models\n",
    "\n",
    "hydrotrend = pymt.models.Hydrotrend()"
   ]
  },
  {
   "cell_type": "code",
   "execution_count": 49,
   "metadata": {},
   "outputs": [
    {
     "data": {
      "text/plain": [
       "'v1.0.3'"
      ]
     },
     "execution_count": 49,
     "metadata": {},
     "output_type": "execute_result"
    }
   ],
   "source": [
    "import pymt\n",
    "pymt.__version__"
   ]
  },
  {
   "cell_type": "markdown",
   "metadata": {},
   "source": [
    "## Learn about the Model Input\n",
    "<br>\n",
    "HydroTrend will now be activated in PyMT. You can find information on the model, the developer, the papers that describe the moel in more detail etc. \n",
    "Importantly you can scroll down a bit to the Parameters list, it shows what parameters the model uses to control the simulations. The list is alphabetical and uses precisely specified 'Standard Names'.\n",
    "Note that every parameter has a 'default' value, so that when you do not list it in the configure command, you will run with these values.\n"
   ]
  },
  {
   "cell_type": "code",
   "execution_count": 50,
   "metadata": {},
   "outputs": [
    {
     "name": "stdout",
     "output_type": "stream",
     "text": [
      "Help on Hydrotrend in module pymt.framework.bmi_bridge object:\n",
      "\n",
      "class Hydrotrend(BmiCap)\n",
      " |  Basic Model Interface for HydroTrend.\n",
      " |  \n",
      " |  Climate-driven hydrological water balance and transport model that\n",
      " |  simulates water discharge and sediment load at a river outlet.\n",
      " |  HydroTrend simulates water and sediment fluxes at a daily timescale\n",
      " |  based on drainage basin characteristics and climate. HydroTrend can\n",
      " |  provide this river flux information to other components like CEM and\n",
      " |  Sedflux2D or Sedflux3D\n",
      " |  \n",
      " |  Author:\n",
      " |  - Albert Kettner\n",
      " |  Version: 3.0.1\n",
      " |  License: GPLv3\n",
      " |  DOI: 10.1594/IEDA/100135\n",
      " |  URL: http://csdms.colorado.edu/wiki/Model_help:HydroTrend\n",
      " |  \n",
      " |  Cite as:\n",
      " |  \n",
      " |      @article{kettner2008hydrotrend,\n",
      " |        title={HydroTrend v. 3.0: a climate-driven hydrological transport model that simulates discharge and sediment load leaving a river system},\n",
      " |        author={Kettner, Albert J and Syvitski, James PM},\n",
      " |        journal={Computers \\& Geosciences},\n",
      " |        volume={34},\n",
      " |        number={10},\n",
      " |        pages={1170--1183},\n",
      " |        year={2008},\n",
      " |        publisher={Elsevier}\n",
      " |      }\n",
      " |  \n",
      " |  \n",
      " |  Parameters\n",
      " |  ----------\n",
      " |  april_precipitation_mean : float, optional\n",
      " |      Mean precipitation for April [default=147.96 mm]\n",
      " |  april_precipitation_standard_deviation : float, optional\n",
      " |      Standard deviation of April precipitation [default=56.59 mm]\n",
      " |  april_temperature_mean : float, optional\n",
      " |      Mean temperature for April [default=14.76 deg C]\n",
      " |  april_temperature_standard_deviation : float, optional\n",
      " |      Standard deviation of April temperatures [default=0.88 deg C]\n",
      " |  august_precipitation_mean : float, optional\n",
      " |      Mean precipitation for August [default=147.82 mm]\n",
      " |  august_precipitation_standard_deviation : float, optional\n",
      " |      Standard deviation of August precipitation [default=49.38 mm]\n",
      " |  august_temperature_mean : float, optional\n",
      " |      Mean temperature for August [default=10.13 deg C]\n",
      " |  august_temperature_standard_deviation : float, optional\n",
      " |      Standard deviation of August temperatures [default=0.74 deg C]\n",
      " |  base_flow : float, optional\n",
      " |      Constant annual base flow [default=1.1 m^3/s]\n",
      " |  basin_length : float, optional\n",
      " |      River length [default=100.0 km]\n",
      " |  bqrt_anthropogenic_factor : float, optional\n",
      " |      Anthropogenic factor for BQRT equation [default=6.0 -]\n",
      " |  bqrt_lithology_factor : float, optional\n",
      " |      Lithology factor for BQRT equation [default=0.3 -]\n",
      " |  change_in_mean_annual_temperature : float, optional\n",
      " |      Rate of change of mean annual temperature [default=0.0 deg C / yr]\n",
      " |  change_in_total_annual_precipitation : float, optional\n",
      " |      Rate of change in the total annual precipitation [default=0.0 m/yr/yr]\n",
      " |  december_precipitation_mean : float, optional\n",
      " |      Mean precipitation for December [default=116.84 mm]\n",
      " |  december_precipitation_standard_deviation : float, optional\n",
      " |      Standard deviation of December precipitation [default=70.08 mm]\n",
      " |  december_temperature_mean : float, optional\n",
      " |      Mean temperature for December [default=17.93 deg C]\n",
      " |  december_temperature_standard_deviation : float, optional\n",
      " |      Standard deviation of December temperatures [default=1.03 deg C]\n",
      " |  delta_gradient : float, optional\n",
      " |      Delta gradient [default=0.0001 -]\n",
      " |  ela_change : float, optional\n",
      " |      Rate of change of equilibrium line altitude [default=0.0 m / yr]\n",
      " |  ela_start : float, optional\n",
      " |      Starting equilibrium line altitude of glacier [default=3269.93 m]\n",
      " |  evaporation_fraction : float, optional\n",
      " |      Dry precipitation (nival and ice) evaporation fraction [default=0.3 -]\n",
      " |  february_precipitation_mean : float, optional\n",
      " |      Mean precipitation for February [default=101.22 mm]\n",
      " |  february_precipitation_standard_deviation : float, optional\n",
      " |      Standard deviation of February precipitation [default=69.9 mm]\n",
      " |  february_temperature_mean : float, optional\n",
      " |      Mean temperature for February [default=18.85 deg C]\n",
      " |  february_temperature_standard_deviation : float, optional\n",
      " |      Standard deviation of February temperatures [default=1.32 deg C]\n",
      " |  groundwater_coefficient : float, optional\n",
      " |      Groundwater (subsurface storm flow) coefficient [default=20000.0 m^3]\n",
      " |  groundwater_exponent : float, optional\n",
      " |      Groundwater (subsurface storm flow) exponent [default=1.4 -]\n",
      " |  groundwater_storage_max : float, optional\n",
      " |      Maximum groundwater storage [default=7100000000.0 m^3]\n",
      " |  groundwater_storage_min : float, optional\n",
      " |      Minimum groundwater storage [default=4200000000.0 m^3]\n",
      " |  groundwater_storage_start : float, optional\n",
      " |      Groundwater storage at start of simulation [default=4200000000.0 m^3]\n",
      " |  hydraulic_conductivity : float, optional\n",
      " |      Saturated hydraulic conductivity [default=110.0 mm/day]\n",
      " |  january_precipitation_mean : float, optional\n",
      " |      Mean precipitation for January [default=103.91 mm]\n",
      " |  january_precipitation_standard_deviation : float, optional\n",
      " |      Standard deviation of January precipitation [default=62.07 mm]\n",
      " |  january_temperature_mean : float, optional\n",
      " |      Mean temperature for January [default=19.14 deg C]\n",
      " |  january_temperature_standard_deviation : float, optional\n",
      " |      Standard deviation of January temperatures [default=1.05 deg C]\n",
      " |  july_precipitation_mean : float, optional\n",
      " |      Mean precipitation for July [default=176.36 mm]\n",
      " |  july_precipitation_standard_deviation : float, optional\n",
      " |      Standard deviation of July precipitation [default=63.04 mm]\n",
      " |  july_temperature_mean : float, optional\n",
      " |      Mean temperature for July [default=9.43 deg C]\n",
      " |  july_temperature_standard_deviation : float, optional\n",
      " |      Standard deviation of July temperatures [default=0.95 deg C]\n",
      " |  june_precipitation_mean : float, optional\n",
      " |      Mean precipitation for June [default=151.8 mm]\n",
      " |  june_precipitation_standard_deviation : float, optional\n",
      " |      Standard deviation of June precipitation [default=67.8 mm]\n",
      " |  june_temperature_mean : float, optional\n",
      " |      Mean temperature for June [default=9.99 deg C]\n",
      " |  june_temperature_standard_deviation : float, optional\n",
      " |      Standard deviation of June temperatures [default=1.08 deg C]\n",
      " |  lapse_rate : float, optional\n",
      " |      Lapse rate to calculate freezing line [default=6.16 deg C / km]\n",
      " |  march_precipitation_mean : float, optional\n",
      " |      Mean precipitation for March [default=121.9 mm]\n",
      " |  march_precipitation_standard_deviation : float, optional\n",
      " |      Standard deviation of March precipitation [default=71.12 mm]\n",
      " |  march_temperature_mean : float, optional\n",
      " |      Mean temperature for March [default=17.49 deg C]\n",
      " |  march_temperature_standard_deviation : float, optional\n",
      " |      Standard deviation of March temperatures [default=1.07 deg C]\n",
      " |  may_precipitation_mean : float, optional\n",
      " |      Mean precipitation for May [default=125.5 mm]\n",
      " |  may_precipitation_standard_deviation : float, optional\n",
      " |      Standard deviation of May precipitation [default=71.91 mm]\n",
      " |  may_temperature_mean : float, optional\n",
      " |      Mean temperature for May [default=12.08 deg C]\n",
      " |  may_temperature_standard_deviation : float, optional\n",
      " |      Standard deviation of May temperatures [default=0.86 deg C]\n",
      " |  november_precipitation_mean : float, optional\n",
      " |      Mean precipitation for November [default=114.85 mm]\n",
      " |  november_precipitation_standard_deviation : float, optional\n",
      " |      Standard deviation of November precipitation [default=60.34 mm]\n",
      " |  november_temperature_mean : float, optional\n",
      " |      Mean temperature for November [default=15.82 deg C]\n",
      " |  november_temperature_standard_deviation : float, optional\n",
      " |      Standard deviation of November temperatures [default=1.08 deg C]\n",
      " |  october_precipitation_mean : float, optional\n",
      " |      Mean precipitation for October [default=127.39 mm]\n",
      " |  october_precipitation_standard_deviation : float, optional\n",
      " |      Standard deviation of October precipitation [default=60.39 mm]\n",
      " |  october_temperature_mean : float, optional\n",
      " |      Mean temperature for October [default=13.91 deg C]\n",
      " |  october_temperature_standard_deviation : float, optional\n",
      " |      Standard deviation of October temperatures [default=1.14 deg C]\n",
      " |  reservoir_area : float, optional\n",
      " |      Drainage area of reservoir [default=1000.0 km^2]\n",
      " |  reservoir_volume : float, optional\n",
      " |      Mean volume of reservoir [default=0.0 km^3]\n",
      " |  river_mean_velocity : float, optional\n",
      " |      Mean river mouth velocity [default=1.1 m/s]\n",
      " |  river_velocity_coefficient : float, optional\n",
      " |      River mouth velocity coefficient k in v=kQ^m [default=0.87 m/s]\n",
      " |  river_velocity_exponent : float, optional\n",
      " |      River mouth velocity exponent m in v=kQ^m [default=0.1 -]\n",
      " |  river_width_coefficient : float, optional\n",
      " |      River mouth width coefficient a in ack=1 [default=3.0 m]\n",
      " |  river_width_exponent : float, optional\n",
      " |      River mouth width exponent b in b+m+f=1 [default=0.5 m]\n",
      " |  run_duration : int, optional\n",
      " |      Number of years to run model for [default=1 yr]\n",
      " |  september_precipitation_mean : float, optional\n",
      " |      Mean precipitation for September [default=132.03 mm]\n",
      " |  september_precipitation_standard_deviation : float, optional\n",
      " |      Standard deviation of September precipitation [default=64.54 mm]\n",
      " |  september_temperature_mean : float, optional\n",
      " |      Mean temperature for September [default=11.92 deg C]\n",
      " |  september_temperature_standard_deviation : float, optional\n",
      " |      Standard deviation of September temperatures [default=0.94 deg C]\n",
      " |  standard_deviation_of_mean_annual_temperature : float, optional\n",
      " |      Standard deviation of mean annual temperature [default=0.55 deg C]\n",
      " |  standard_deviation_of_total_annual_precipitation : float, optional\n",
      " |      Standard deviation of the total annual precipitation [default=0.3\n",
      " |      m/yr]\n",
      " |  starting_mean_annual_temperature : float, optional\n",
      " |      Mean annual temperature at the start of the simulation [default=14.26\n",
      " |      deg C]\n",
      " |  total_annual_precipitation : float, optional\n",
      " |      Mean total annual precipitation [default=1.59 m/yr]\n",
      " |  trapping_efficiency : float, optional\n",
      " |      Delta trapping efficiency [default=0.0 -]\n",
      " |  \n",
      " |  Examples\n",
      " |  --------\n",
      " |  >>> from pymt.models import HydroTrend\n",
      " |  >>> model = HydroTrend()\n",
      " |  >>> (fname, initdir) = model.setup()\n",
      " |  >>> model.initialize(fname, dir=initdir)\n",
      " |  >>> for _ in xrange(10):\n",
      " |  ...     model.update()\n",
      " |  >>> model.finalize()\n",
      " |  \n",
      " |  Method resolution order:\n",
      " |      Hydrotrend\n",
      " |      BmiCap\n",
      " |      pymt.framework.bmi_mapper.GridMapperMixIn\n",
      " |      _BmiCap\n",
      " |      pymt.framework.bmi_timeinterp.BmiTimeInterpolator\n",
      " |      pymt.framework.bmi_setup.SetupMixIn\n",
      " |      builtins.object\n",
      " |  \n",
      " |  Methods defined here:\n",
      " |  \n",
      " |  __repr__(self)\n",
      " |  \n",
      " |  __str__(self)\n",
      " |  \n",
      " |  ----------------------------------------------------------------------\n",
      " |  Methods inherited from pymt.framework.bmi_mapper.GridMapperMixIn:\n",
      " |  \n",
      " |  map_to(self, name, **kwds)\n",
      " |      Map values to another grid.\n",
      " |      \n",
      " |      Parameters\n",
      " |      ----------\n",
      " |      name : str\n",
      " |          Name of values to push.\n",
      " |  \n",
      " |  map_value(self, name, **kwds)\n",
      " |      Map values from another grid.\n",
      " |      \n",
      " |      Parameters\n",
      " |      ----------\n",
      " |      name : str\n",
      " |          Name of values to map to.\n",
      " |      mapfrom : tuple or bmi_like, optional\n",
      " |          BMI object from which values are mapped from. This can also be\n",
      " |          a tuple of *(name, bmi)*, where *name* is the variable of the\n",
      " |          source grid and *bmi* is the bmi-like source. If not provided,\n",
      " |          use *self*.\n",
      " |      nomap : narray of bool, optional\n",
      " |          Values in the destination grid to not map.\n",
      " |  \n",
      " |  regrid(self, name, **kwds)\n",
      " |      Regrid values from one grid to another.\n",
      " |      \n",
      " |      Parameters\n",
      " |      ----------\n",
      " |      name : str\n",
      " |          Name of the values to regrid.\n",
      " |      to : bmi_like, optional\n",
      " |          BMI object onto which to map values. If not provided, map\n",
      " |          values onto one of the object's own grids.\n",
      " |      to_name : str, optional\n",
      " |          Name of the value to map onto. If not provided, use *name*.\n",
      " |      \n",
      " |      Returns\n",
      " |      -------\n",
      " |      ndarray\n",
      " |          The regridded values.\n",
      " |  \n",
      " |  set_value(self, name, *args, **kwds)\n",
      " |      Set values for a variable.\n",
      " |      set_value(name, value)\n",
      " |      set_value(name, mapfrom=self, nomap=None)\n",
      " |      \n",
      " |      Parameters\n",
      " |      ----------\n",
      " |      name : str\n",
      " |          Name of the destination values.\n",
      " |  \n",
      " |  ----------------------------------------------------------------------\n",
      " |  Data descriptors inherited from pymt.framework.bmi_mapper.GridMapperMixIn:\n",
      " |  \n",
      " |  __dict__\n",
      " |      dictionary for instance variables (if defined)\n",
      " |  \n",
      " |  __weakref__\n",
      " |      list of weak references to the object (if defined)\n",
      " |  \n",
      " |  ----------------------------------------------------------------------\n",
      " |  Methods inherited from _BmiCap:\n",
      " |  \n",
      " |  __init__(self)\n",
      " |      Initialize self.  See help(type(self)) for accurate signature.\n",
      " |  \n",
      " |  as_dict(self)\n",
      " |  \n",
      " |  as_json(self)\n",
      " |  \n",
      " |  as_yaml(self)\n",
      " |  \n",
      " |  finalize(self)\n",
      " |  \n",
      " |  get_component_name(self)\n",
      " |  \n",
      " |  get_grid_dim(self, grid, dim)\n",
      " |  \n",
      " |  get_grid_face_node_connectivity(self, grid, out=None)\n",
      " |  \n",
      " |  get_grid_face_node_offset(self, grid, out=None)\n",
      " |  \n",
      " |  get_grid_face_nodes(self, grid, out=None)\n",
      " |  \n",
      " |  get_grid_ndim(self, grid)\n",
      " |  \n",
      " |  get_grid_nodes_per_face(self, grid, out=None)\n",
      " |  \n",
      " |  get_grid_number_of_faces(self, grid)\n",
      " |  \n",
      " |  get_grid_number_of_nodes(self, grid)\n",
      " |  \n",
      " |  get_grid_number_of_vertices(self, grid)\n",
      " |  \n",
      " |  get_grid_origin(self, grid, out=None)\n",
      " |  \n",
      " |  get_grid_rank(self, grid)\n",
      " |  \n",
      " |  get_grid_shape(self, grid, out=None)\n",
      " |  \n",
      " |  get_grid_size(self, grid)\n",
      " |  \n",
      " |  get_grid_spacing(self, grid, out=None)\n",
      " |  \n",
      " |  get_grid_type(self, grid)\n",
      " |  \n",
      " |  get_grid_x(self, grid, out=None)\n",
      " |  \n",
      " |  get_grid_y(self, grid, out=None)\n",
      " |  \n",
      " |  get_grid_z(self, grid, out=None)\n",
      " |  \n",
      " |  get_input_var_names(self)\n",
      " |  \n",
      " |  get_output_var_names(self)\n",
      " |  \n",
      " |  get_value(self, name, out=None, units=None, angle=None, at=None, method=None)\n",
      " |  \n",
      " |  get_value_ptr(self, name)\n",
      " |  \n",
      " |  get_var_grid(self, name)\n",
      " |  \n",
      " |  get_var_grid_loc(self, name)\n",
      " |  \n",
      " |  get_var_intent(self, name)\n",
      " |  \n",
      " |  get_var_itemsize(self, name)\n",
      " |  \n",
      " |  get_var_location(self, name)\n",
      " |  \n",
      " |  get_var_nbytes(self, name)\n",
      " |  \n",
      " |  get_var_type(self, name)\n",
      " |  \n",
      " |  get_var_units(self, name)\n",
      " |  \n",
      " |  initialize(self, fname=None, dir='.')\n",
      " |      Initialize the model.\n",
      " |      \n",
      " |      Parameters\n",
      " |      ----------\n",
      " |      fname : str\n",
      " |          Name of initialization file.\n",
      " |      dir : str\n",
      " |          Path to folder in which to run initialization.\n",
      " |  \n",
      " |  quick_plot(self, name, **kwds)\n",
      " |  \n",
      " |  time_from(self, time, units)\n",
      " |  \n",
      " |  time_in(self, time, units)\n",
      " |  \n",
      " |  update(self)\n",
      " |  \n",
      " |  ----------------------------------------------------------------------\n",
      " |  Data descriptors inherited from _BmiCap:\n",
      " |  \n",
      " |  bmi\n",
      " |  \n",
      " |  end_time\n",
      " |  \n",
      " |  grid\n",
      " |  \n",
      " |  initdir\n",
      " |  \n",
      " |  input_var_names\n",
      " |  \n",
      " |  name\n",
      " |  \n",
      " |  output_var_names\n",
      " |  \n",
      " |  start_time\n",
      " |  \n",
      " |  time\n",
      " |  \n",
      " |  time_step\n",
      " |  \n",
      " |  time_units\n",
      " |  \n",
      " |  var\n",
      " |  \n",
      " |  ----------------------------------------------------------------------\n",
      " |  Data and other attributes inherited from _BmiCap:\n",
      " |  \n",
      " |  NUMBER_OF_ELEMENTS = {'edge': 'get_grid_number_of_edges', 'face': 'get...\n",
      " |  \n",
      " |  ----------------------------------------------------------------------\n",
      " |  Methods inherited from pymt.framework.bmi_timeinterp.BmiTimeInterpolator:\n",
      " |  \n",
      " |  add_data(self)\n",
      " |  \n",
      " |  interpolate(self, name, at)\n",
      " |  \n",
      " |  reset(self, method='linear')\n",
      " |  \n",
      " |  update_until(self, then, method=None, units=None)\n",
      " |  \n",
      " |  ----------------------------------------------------------------------\n",
      " |  Methods inherited from pymt.framework.bmi_setup.SetupMixIn:\n",
      " |  \n",
      " |  setup(self, *args, **kwds)\n",
      " |      Set up a simulation.\n",
      " |      \n",
      " |      Parameters\n",
      " |      ----------\n",
      " |      path : str, optional\n",
      " |          Path to a folder to set up the simulation. If not given,\n",
      " |          use a temporary folder.\n",
      " |      \n",
      " |      Returns\n",
      " |      -------\n",
      " |      str\n",
      " |          Path to the folder that contains the set up simulation.\n",
      " |  \n",
      " |  ----------------------------------------------------------------------\n",
      " |  Data descriptors inherited from pymt.framework.bmi_setup.SetupMixIn:\n",
      " |  \n",
      " |  author\n",
      " |  \n",
      " |  cite_as\n",
      " |  \n",
      " |  contact\n",
      " |  \n",
      " |  datadir\n",
      " |  \n",
      " |  defaults\n",
      " |  \n",
      " |  doi\n",
      " |  \n",
      " |  email\n",
      " |  \n",
      " |  license\n",
      " |  \n",
      " |  parameters\n",
      " |  \n",
      " |  summary\n",
      " |  \n",
      " |  url\n",
      " |  \n",
      " |  version\n",
      "\n"
     ]
    }
   ],
   "source": [
    "# Get basic information about the HydroTrend model \n",
    "help(hydrotrend)"
   ]
  },
  {
   "cell_type": "markdown",
   "metadata": {},
   "source": [
    "### Exercise 1: Explore the Hydrotrend base-case river simulation\n",
    "\n",
    "For this case study, first we will create a subdirectory in which the basecase (BC) simulation will be implemented. \n",
    "\n",
    "Then we specify for how long we will run a simulation: for 100 years at daily time-step.\n",
    "This means you run Hydrotrend for 36,500 days total. \n",
    "This is also the line of code where you would add other input parameters with their values."
   ]
  },
  {
   "cell_type": "code",
   "execution_count": 51,
   "metadata": {},
   "outputs": [],
   "source": [
    "# Set up Hydrotrend model by indicating the number of years to run\n",
    "config_file, config_folder = hydrotrend.setup(\"_hydrotrendBC\", run_duration=100)"
   ]
  },
  {
   "cell_type": "markdown",
   "metadata": {},
   "source": [
    "With the cat command you can print character by character one of the two input files that HydroTrend uses.\n",
    "HYDRO0.HYPS: This first file specifies the River Basin Hysometry - the surface area per elevation zone. The hypsometry captures the geometric characteristics of the river basin, how high is the relief, how much uplands are there versus lowlands, where would the snow fall elevation line be etcetera. <br>\n",
    "HYDRO.IN: This other file specifies the basin and climate input data. "
   ]
  },
  {
   "cell_type": "code",
   "execution_count": 52,
   "metadata": {},
   "outputs": [
    {
     "name": "stdout",
     "output_type": "stream",
     "text": [
      "-------------------------------------------------\r\n",
      "Hypsometry input file for HYDROTREND\r\n",
      "First line: number of hypsometric bins\r\n",
      "Other lines: altitude (m) and area in (km^2) data\r\n",
      "-------------------------------------------------\r\n",
      "25\r\n",
      "1\t208.9168081\r\n",
      "51\t375.2451287\r\n",
      "101\t536.0996727\r\n",
      "151\t727.1589437\r\n",
      "201\t902.604255\r\n",
      "251\t1096.567651\r\n",
      "301\t1257.078121\r\n",
      "351\t1414.457889\r\n",
      "401\t1529.215605\r\n",
      "451\t1630.798354\r\n",
      "501\t1704.457117\r\n",
      "551\t1769.103192\r\n",
      "601\t1816.557667\r\n",
      "651\t1862.242091\r\n",
      "701\t1898.728609\r\n",
      "751\t1932.088621\r\n",
      "801\t1954.393164\r\n",
      "851\t1969.016904\r\n",
      "901\t1977.0094\r\n",
      "951\t1981.623038\r\n",
      "1001\t1984.268222\r\n",
      "1051\t1985.923785\r\n",
      "1101\t1986.740178\r\n",
      "1151\t1986.92\r\n",
      "1201\t1986.921"
     ]
    }
   ],
   "source": [
    "cat  _hydrotrendBC/HYDRO0.HYPS"
   ]
  },
  {
   "cell_type": "code",
   "execution_count": 7,
   "metadata": {},
   "outputs": [
    {
     "name": "stdout",
     "output_type": "stream",
     "text": [
      "Waipaoa 50yrs present\r\n",
      "ON\t\t\t\t2) Write output to ASCII files (ON/OFF)\r\n",
      "./HYDRO_OUTPUT/\t\t3) Location where the output data will be stored (not optional for web)\r\n",
      "1\t\t\t\t4) No. of epochs to run (leave 1 line blank between epochs; start copying from nr 5)\r\n",
      "0 100 d\t\t5) Start year; no. of years to run; averaging interval: D,M,S or Y\r\n",
      "4\t\t\t\t6) Number of suspended sed. grain sizes to simulate (max 10)\r\n",
      ".2 .2 .25 .35\t7) Proportion of sediment in each grain size (sum=1)\r\n",
      "14.26 0.0 0.55  8) Yrly Tbar: start (C), change/yr (C/a), std dev\r\n",
      "1.59 0.0 0.3 9) Yrly P sum: start (m/a), change/yr (m/a/a), std. dev (m).\r\n",
      "1. 1.9 7\t10) Rain: Mass Balance Coef, Distribution Exp, Distribution Range\r\n",
      "1.1\t\t11) Constant annual base flow (m^3/s)\r\n",
      "Jan  19.14  1.05 103.91 62.07 12-23) monthly climate variables\r\n",
      "Feb  18.85  1.32 101.22 69.90 column  variable\tdescription\r\n",
      "Mar  17.49  1.07 121.90 71.12 ------  --------\t-----------\r\n",
      "Apr  14.76  0.88 147.96 56.59 1\tmoname  \tmonth name (not used)\r\n",
      "May  12.08  0.86 125.50 71.91 2\ttmpinm  \tmonthly mean T. (C)\r\n",
      "Jun   9.99  1.08 151.80 67.80 3\ttmpstd  \twithin month Std Dev. of T\r\n",
      "Jul   9.43  0.95 176.36 63.04 4\traininm \tmonthly total Precip. (mm)\r\n",
      "Aug  10.13  0.74 147.82 49.38 5\trainstd \tStd Dev of the monthly P.\r\n",
      "Sep  11.92  0.94 132.03 64.54 .\r\n",
      "Oct  13.91  1.14 127.39 60.39 .\r\n",
      "Nov  15.82  1.08 114.85 60.34 .\r\n",
      "Dec  17.93  1.03 116.84 70.08 .\r\n",
      "6.16\t\t\t24) Lapse rate to calculate freezing line (degC/km)\r\n",
      "3269.93 0.0 \t25) Starting glacier ELA (m) and ELA change per year (m/a)\r\n",
      "0.3\t\t\t\t26) Dry precip (nival and ice) evaporation fraction\r\n",
      "-0.1 0.85                       26a) canopy interception alphag(-0.1(mm/d)), betag(0.85(-))\r\n",
      "10 1                            26b) groundwater pole evapotranspiration alpha_gwe (common 10 (mm/d)), beta_gwe (common 1 (-))\r\n",
      "0.0001\t\t\t27) Delta plain gradient (m/m)\r\n",
      "1.0                             27a) Bedload rating term (-)(typically 1.0; if set to -9999, 1.0 will be used)\r\n",
      "100.0\t\t\t\t28) River basin length (km)\r\n",
      "0.0 d 1000.0\t\t\t29) Mean volume, (a)ltitude or (d)rainage area of reservoir (km^3)(m) or (km^2)\r\n",
      "0.87 0.1\t30) River mouth velocity coef. (k) and exponent (m); v=kQ^m, w=aQ^b, d=cQ^f\r\n",
      "3.0 0.5\t31) River mouth width coef.(a) and exponent (b); Q=wvd so ack=1 and b+m+f=1\r\n",
      "1.1\t32) Average river velocity (m/s)\r\n",
      "7.100e+09 4.200e+09\t33) Maximum/minimum groundwater storage (m^3)\r\n",
      "4.200e+09\t34) Initial groundwater storage (m^3)\r\n",
      "20000.0\t1.4\t35) Groundwater (subsurface storm flow) coefficient (m^3/s) and exp (unitless)\r\n",
      "110.0\t36) Saturated hydraulic conductivity (mm/day)\r\n",
      "355 -39.5\t\t37) Longitude, latitude position of the river mouth (decimal degrees)\r\n",
      "1\t\t\t\t38) Nr. of outlets in a delta, 1 =  no outlets;\r\n",
      "1\t\t\t\t39) Fraction Q for each outlet\r\n",
      "n1\t\t\t\t40)\tCertain Qpeak, above this, it change the nr of outlets or the Q fr. distribution\r\n",
      "0.0\t\t\t\t41) Fraction sediment trapped in delta (0 - 0.9; only if 39 > 1 or u or r)\r\n",
      "2                               42) 0)=QRT;  1) =ART)   2) =BQART\r\n",
      "0.3                             43) if line 42 is 2: Lithology factor from hard - weak material (0.3 - 3)^M\r\n",
      "6.0\t                        44) if line 42 is 2: Anthropogenic factor (0.5 - 8), human disturbance of the landscape"
     ]
    }
   ],
   "source": [
    "cat _hydrotrendBC/HYDRO.IN"
   ]
  },
  {
   "cell_type": "code",
   "execution_count": 53,
   "metadata": {},
   "outputs": [
    {
     "data": {
      "text/plain": [
       "('atmosphere_bottom_air__domain_mean_of_temperature',\n",
       " 'channel_exit_water_sediment~suspended__mass_flow_rate',\n",
       " 'channel_exit_water_flow__speed',\n",
       " 'channel_entrance_water_sediment~bedload__mass_flow_rate',\n",
       " 'channel_exit_water__volume_flow_rate',\n",
       " 'channel_exit_water_x-section__width',\n",
       " 'channel_exit_water_x-section__depth',\n",
       " 'channel_entrance_water__volume_flow_rate',\n",
       " 'atmosphere_water__domain_mean_of_precipitation_leq-volume_flux',\n",
       " 'channel_exit_water_sediment~bedload__mass_flow_rate',\n",
       " 'channel_exit_water_sediment~suspended__mass_concentration')"
      ]
     },
     "execution_count": 53,
     "metadata": {},
     "output_type": "execute_result"
    }
   ],
   "source": [
    "#In pymt one can always find out what output a model generates by using the .output_var_names method. \n",
    "hydrotrend.output_var_names"
   ]
  },
  {
   "cell_type": "code",
   "execution_count": 54,
   "metadata": {},
   "outputs": [],
   "source": [
    "# Now we initialize the model with the configure file and in the configure folder\n",
    "hydrotrend.initialize(config_file, config_folder)"
   ]
  },
  {
   "cell_type": "code",
   "execution_count": 55,
   "metadata": {},
   "outputs": [
    {
     "data": {
      "text/plain": [
       "(0.0, 0.0, 36500.0, 1.0, 'd')"
      ]
     },
     "execution_count": 55,
     "metadata": {},
     "output_type": "execute_result"
    }
   ],
   "source": [
    "# this line of code lists time parameters, when, how long and at what timestep will the model simulation work?\n",
    "hydrotrend.start_time, hydrotrend.time, hydrotrend.end_time, hydrotrend.time_step, hydrotrend.time_units"
   ]
  },
  {
   "cell_type": "code",
   "execution_count": 56,
   "metadata": {},
   "outputs": [],
   "source": [
    "# this code declares numpy arrays for several important parameters we want to save.\n",
    "n_days = int(hydrotrend.end_time)\n",
    "q = np.empty(n_days) #river discharge at the outlet\n",
    "qs = np.empty(n_days)# sediment load at the outlet\n",
    "cs = np.empty(n_days) # suspended sediment concentration for different grainsize classes at the outlet\n",
    "qb = np.empty(n_days) # bedload at the outlet\n",
    "\n",
    "# here we have coded up the time loop using i as the index\n",
    "# we update the model with one timestep at the time, untill we reach the end time \n",
    "# for each time step we also get the values for the output parameters we wish to \n",
    "for i in range(n_days):\n",
    "    hydrotrend.update()\n",
    "    q[i] = hydrotrend.get_value(\"channel_exit_water__volume_flow_rate\")\n",
    "    qs[i] = hydrotrend.get_value(\"channel_exit_water_sediment~suspended__mass_flow_rate\")\n",
    "    cs[i] = hydrotrend.get_value(\"channel_exit_water_sediment~suspended__mass_concentration\")\n",
    "    qb[i] = hydrotrend.get_value(\"channel_exit_water_sediment~bedload__mass_flow_rate\")"
   ]
  },
  {
   "cell_type": "code",
   "execution_count": 57,
   "metadata": {},
   "outputs": [
    {
     "data": {
      "text/plain": [
       "<function matplotlib.pyplot.show(*args, **kw)>"
      ]
     },
     "execution_count": 57,
     "metadata": {},
     "output_type": "execute_result"
    },
    {
     "data": {
      "image/png": "[encoded data removed]",
      "text/plain": [
       "<Figure size 432x288 with 1 Axes>"
      ]
     },
     "metadata": {
      "needs_background": "light"
     },
     "output_type": "display_data"
    }
   ],
   "source": [
    "# We can plot the simulated output timeseries of Hydrotrend, for example the river discharge\n",
    "\n",
    "plt.plot(q)\n",
    "plt.title('HydroTrend simulation of 100 year river discharge, Waiapaoa River')\n",
    "plt.ylabel('river discharge in m3/sec')\n",
    "plt.show"
   ]
  },
  {
   "cell_type": "code",
   "execution_count": 13,
   "metadata": {},
   "outputs": [
    {
     "data": {
      "image/png": "[encoded data removed]",
      "text/plain": [
       "<Figure size 432x288 with 1 Axes>"
      ]
     },
     "metadata": {
      "needs_background": "light"
     },
     "output_type": "display_data"
    }
   ],
   "source": [
    "# Or you can plot a subset of the simulated daily timeseries using the array index\n",
    "\n",
    "# BACKGROUND RESOURCE ON ARRAY MANIPULATION \n",
    "# https://jakevdp.github.io/PythonDataScienceHandbook/02.02-the-basics-of-numpy-arrays.html\n",
    "\n",
    "#for example the first year\n",
    "plt.plot(q[0:365], 'black')\n",
    "# compare with the last year\n",
    "plt.plot(q[-366:-1],'grey')\n",
    "plt.title('HydroTrend simulation of first and last year discharge, Waiapaoa River')\n",
    "plt.show()\n",
    "\n"
   ]
  },
  {
   "cell_type": "code",
   "execution_count": 14,
   "metadata": {},
   "outputs": [
    {
     "name": "stdout",
     "output_type": "stream",
     "text": [
      "78.8605280859\n"
     ]
    },
    {
     "data": {
      "text/plain": [
       "'m^3 / s'"
      ]
     },
     "execution_count": 14,
     "metadata": {},
     "output_type": "execute_result"
    }
   ],
   "source": [
    "# Of course, it is important to calculate statistical properties of the simulated parameters\n",
    "\n",
    "print(q.mean())\n",
    "hydrotrend.get_var_units(\"channel_exit_water__volume_flow_rate\")"
   ]
  },
  {
   "cell_type": "markdown",
   "metadata": {},
   "source": [
    " ## <font color = green> Assignment 1 </font> \n",
    "\n",
    "Calculate mean water discharge Q, mean suspended load Qs, mean sediment concentration Cs, and mean bedload Qb for this 100 year simulation of the river dynamics of the Waiapaoa River.\n",
    "Note all values are reported as daily averages. What are the units?\n"
   ]
  },
  {
   "cell_type": "code",
   "execution_count": 15,
   "metadata": {},
   "outputs": [],
   "source": [
    "# your code goes here\n"
   ]
  },
  {
   "cell_type": "markdown",
   "metadata": {},
   "source": [
    "## <font color = green> Assignment 2 </font> \n",
    "\n",
    "Identify the highest flood event for this simulation. Is this the 100-year flood? Please list a definition of a 100 year flood, and discuss whether the modeled extreme event fits this definition. \n",
    "Plot the year of Q-data which includes the flood.\n"
   ]
  },
  {
   "cell_type": "code",
   "execution_count": 16,
   "metadata": {},
   "outputs": [],
   "source": [
    "# here you can calculate the maximum river discharge.\n"
   ]
  },
  {
   "cell_type": "code",
   "execution_count": 17,
   "metadata": {},
   "outputs": [],
   "source": [
    "# your code to determine which day and which year encompass the maximum discharge go here\n",
    "# Hint: you will want to determine the index in the array of this day first, look into documentation on numpy.argmax and numpy.argmin \n",
    "\n",
    "# as a sanity check you can see whether the plot y-axis seems to go up to the maximum you had calculated in the previous step\n",
    "# as a sanity check you can look in the plot of all the years to see whether the timing your code predicts is correct"
   ]
  },
  {
   "cell_type": "code",
   "execution_count": 18,
   "metadata": {},
   "outputs": [],
   "source": [
    "# type your explanation about the 100 year flood here."
   ]
  },
  {
   "cell_type": "markdown",
   "metadata": {},
   "source": [
    "## <font color = green> Assignment 3 </font> \n",
    "\n",
    "Calculate the mean annual sediment load for this river system. \n",
    "Recall the definition of sediment load, and its units.\n",
    "\n",
    "Then compare the annual load of the Waiapaoha river to the Mississippi River. <br>\n",
    "To compare the mean annual load to other river systems you will need to calculate its \"sediment yield\". \n",
    "Sediment yield is defined as sediment load normalized for the river drainage area; \n",
    "so it can be reported in $T/km^2/yr$.<br>\n",
    "\n",
    "Hint: to find the sediment load of the Mississippi River, use the paper by *Blum et al., 2009. Drowning of the Mississippi Delta due to insufficient sediment supply and global sea-level rise. Nature geoscience, p488-492.*\n"
   ]
  },
  {
   "cell_type": "code",
   "execution_count": 19,
   "metadata": {},
   "outputs": [],
   "source": [
    "# your code goes here\n",
    "# you will have to sum all days of the individual years, to get the annual loads, then calculate the mean over the 100 years.\n",
    "# one possible trick is to use the .reshape() method\n",
    "# plot a graph of the 100 years timeseries of the total annual loads \n"
   ]
  },
  {
   "cell_type": "code",
   "execution_count": 20,
   "metadata": {},
   "outputs": [],
   "source": [
    "# take the mean over the 100 years\n"
   ]
  },
  {
   "cell_type": "code",
   "execution_count": 21,
   "metadata": {},
   "outputs": [],
   "source": [
    "#your evaluation of the sediment load of the Waiapaoha River and its comparison to the Mississippi River goes here.\n",
    "#Hint: use the following paper to read about the Mississippi sediment load (Blum, M, Roberts, H.,  2009. Drowning of the Mississippi Delta due to insufficient sediment supply and global sea-level rise, Nature Geoscience)."
   ]
  },
  {
   "cell_type": "markdown",
   "metadata": {},
   "source": [
    "### HydroTrend Exercise 2: How does a river system respond to climate change; two simple scenarios for the coming century.\n",
    "\n",
    "Now we will look at changing climatic conditions in a small river basin. We'll change temperature and precipitation regimes and compare discharge and sediment load characteristics to the original basecase. And we will look at the are potential implications of changes in the peak events.\n",
    "\n",
    "Modify the mean annual temperature T, the mean annual precipitation P. You can specify trends over time, by modifying the parameter ‘change in mean annual temperature’ or ‘change in mean annual precipitation’. HydroTrend runs at daily timestep, and thus can deal with seasonal variations in temperature and precipitation for a basin. The model ingests monthly mean input values for these two climate parameters and their monthly standard deviations, ideally the values would be derived from analysis of a longterm record of daily climate data. You can adapt seasonal trends by using the monthly values."
   ]
  },
  {
   "cell_type": "markdown",
   "metadata": {},
   "source": [
    "## <font color = green> Assignment 4 </font> \n",
    "What happens to river discharge, suspended load and bedload if the mean annual temperature in this specific river basin increases by 4 °C over the next 50 years? In this assignment we set up a new simulation for a warming climate."
   ]
  },
  {
   "cell_type": "code",
   "execution_count": 22,
   "metadata": {},
   "outputs": [],
   "source": [
    "# Set up a new run of the Hydrotrend model \n",
    "# Create a new config file a different folder for input and output files, indicating the number of years to run, and specify the change in mean annual temparture parameter\n",
    "hydrotrendHT = pymt.models.Hydrotrend()\n",
    "config_file, config_folder = hydrotrendHT.setup(\"_hydrotrendhighT\", run_duration=50,  change_in_mean_annual_temperature=0.08)"
   ]
  },
  {
   "cell_type": "code",
   "execution_count": 23,
   "metadata": {},
   "outputs": [],
   "source": [
    "# intialize the new simulation\n",
    "hydrotrendHT.initialize(config_file, config_folder)"
   ]
  },
  {
   "cell_type": "code",
   "execution_count": 24,
   "metadata": {},
   "outputs": [],
   "source": [
    "# the code for the timeloop goes here\n",
    "# I use the abbrevation HT for 'High Temperature' scenario\n",
    "n_days = int(hydrotrendHT.end_time)\n",
    "q_HT = np.empty(n_days) #river discharge at the outlet\n",
    "qs_HT = np.empty(n_days)# sediment load at the outlet\n",
    "cs_HT = np.empty(n_days) # suspended sediment concentration for different grainsize classes at the outlet\n",
    "qb_HT = np.empty(n_days) # bedload at the outlet\n",
    "for i in range(n_days):\n",
    "    hydrotrendHT.update()\n",
    "    q_HT[i] = hydrotrendHT.get_value(\"channel_exit_water__volume_flow_rate\")\n",
    "    qs_HT[i] = hydrotrendHT.get_value(\"channel_exit_water_sediment~suspended__mass_flow_rate\")\n",
    "    cs_HT[i] = hydrotrendHT.get_value(\"channel_exit_water_sediment~suspended__mass_concentration\")\n",
    "    qb_HT[i] = hydrotrendHT.get_value(\"channel_exit_water_sediment~bedload__mass_flow_rate\")"
   ]
  },
  {
   "cell_type": "code",
   "execution_count": 25,
   "metadata": {},
   "outputs": [],
   "source": [
    "# your code that prints out the mean river discharge, the mean sediment load and the mean bedload goes here\n",
    "\n",
    "\n",
    "# print out these same parameters for the basecase for comparison\n",
    "\n"
   ]
  },
  {
   "cell_type": "markdown",
   "metadata": {},
   "source": [
    "## <font color = green> Assignment 5 </font> \n",
    "\n",
    "So what is the effect of a warming basin temperature? \n",
    "How much increase or decrease of river discharge do you see after 50 years? <br>\n",
    "How is the mean suspended load affected? <br>\n",
    "How does the mean bedload change? <br>\n",
    "What happens to the peak event; look at the maximum sediment load event of the last 5 years of the simulation?"
   ]
  },
  {
   "cell_type": "code",
   "execution_count": 26,
   "metadata": {},
   "outputs": [],
   "source": [
    "# type your answers here"
   ]
  },
  {
   "cell_type": "markdown",
   "metadata": {},
   "source": [
    "## <font color = green> Assignment 6 </font>\n",
    "What happens to river discharge, suspended load and bedload if the mean annual precipitation would increase by 50% in this specific river basin over the next 50 years? Create a new simulation folder, High Precipitation, HP, and set up a run with a trend in future precipitation. "
   ]
  },
  {
   "cell_type": "code",
   "execution_count": 27,
   "metadata": {},
   "outputs": [],
   "source": [
    "# Set up a new run of the Hydrotrend model \n",
    "# Create a new config file indicating the number of years to run, and specify the change in mean annual precipitation parameter"
   ]
  },
  {
   "cell_type": "code",
   "execution_count": 28,
   "metadata": {},
   "outputs": [],
   "source": [
    "# initialize the new simulation"
   ]
  },
  {
   "cell_type": "code",
   "execution_count": 29,
   "metadata": {},
   "outputs": [],
   "source": [
    "# your code for the timeloop goes here"
   ]
  },
  {
   "cell_type": "code",
   "execution_count": 30,
   "metadata": {},
   "outputs": [],
   "source": [
    "## your code that prints out the mean river discharge, the mean sediment load and the mean bedload goes here"
   ]
  },
  {
   "cell_type": "markdown",
   "metadata": {},
   "source": [
    "## <font color = green> Assignment 7 </font>\n",
    "\n",
    "In addition, climate model predictions indicate that perhaps precipitation intensity and variability could increase. How would you possibly model this? Discuss how you would modify your input settings for precipitation.\n",
    "\n"
   ]
  },
  {
   "cell_type": "code",
   "execution_count": 31,
   "metadata": {},
   "outputs": [],
   "source": [
    "#type your answer here"
   ]
  },
  {
   "cell_type": "markdown",
   "metadata": {},
   "source": [
    "### Exercise 3: How do humans affect river sediment loads?\n",
    "\n",
    "Here we will look at the effect of human in a river basin. Humans can accelerate erosion\n",
    "processes, or reduce the sediment loads traveling through a river system. Both concepts can\n",
    "be simulated, first run 3 simulations systematically increasing the anthropogenic factor (0.5-8.0 is the range)."
   ]
  },
  {
   "cell_type": "markdown",
   "metadata": {},
   "source": [
    "## <font color = green> Assignment 8 </font>\n",
    "Describe in your own words the meaning of the human-induced erosion factor, (Eh). This factor is parametrized as the  “Antropogenic” factor in HydroTrend. Read more about this in: *Syvitski & Milliman, 2007, Geology, Geography, and Humans Battle for Dominance over the Delivery of Fluvial Sediment to the Coastal Ocean. 2007, 115, p. 1–19.* "
   ]
  },
  {
   "cell_type": "code",
   "execution_count": 32,
   "metadata": {},
   "outputs": [],
   "source": [
    "# your explanation goes here, can you list two reasons why this factor would be unsuitable or it would fall short?"
   ]
  },
  {
   "cell_type": "markdown",
   "metadata": {},
   "source": [
    "## <font color = green> Bonus Assignment 9 </font>\n",
    "Model a scenario of a drinking water supply reservoir to be planned in the coastal area of the basin. The reservoir would have 800 $km^2$ of contributing drainage area and be 3 km long, 200m wide and 100m deep. Set up a simulation with these parameters."
   ]
  },
  {
   "cell_type": "code",
   "execution_count": 33,
   "metadata": {},
   "outputs": [],
   "source": [
    "# Set up a new 50 year of the Hydrotrend model \n",
    "# Create a new directory, and a config file indicating the number of years to run, and specify different reservoir parameters"
   ]
  },
  {
   "cell_type": "code",
   "execution_count": 34,
   "metadata": {},
   "outputs": [],
   "source": [
    "# initialize the new simulation"
   ]
  },
  {
   "cell_type": "code",
   "execution_count": 35,
   "metadata": {},
   "outputs": [],
   "source": [
    "# your code for the timeloop and update loop goes here"
   ]
  },
  {
   "cell_type": "code",
   "execution_count": 36,
   "metadata": {},
   "outputs": [],
   "source": [
    "# plot a bar graph comparing Q mean, Qs mean, Qmax, Qs Max, Qb mean and Qbmax for the basecase run and the reservoir run"
   ]
  },
  {
   "cell_type": "code",
   "execution_count": 37,
   "metadata": {},
   "outputs": [],
   "source": [
    "# Describe how such a reservoir affects the water and sediment load at the coast (i.e. downstream of the reservoir)?"
   ]
  },
  {
   "cell_type": "markdown",
   "metadata": {},
   "source": [
    "## <font color = green>  ALL DONE! </font>"
   ]
  }
 ],
 "metadata": {
  "kernelspec": {
   "display_name": "Python 3",
   "language": "python",
   "name": "python3"
  },
  "language_info": {
   "codemirror_mode": {
    "name": "ipython",
    "version": 3
   },
   "file_extension": ".py",
   "mimetype": "text/x-python",
   "name": "python",
   "nbconvert_exporter": "python",
   "pygments_lexer": "ipython3",
   "version": "3.7.3"
  }
 },
 "nbformat": 4,
 "nbformat_minor": 2
}
