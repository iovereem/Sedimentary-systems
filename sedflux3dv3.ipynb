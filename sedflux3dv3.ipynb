{
 "cells": [
  {
   "cell_type": "markdown",
   "metadata": {},
   "source": [
    "# Sedflux3D\n",
    "\n",
    "\n",
    "Sedflux is a stratigraphic model to simulate basin fill. It deposits layers of sediment arriving from an incoming river into a marine basin. \n",
    "\n",
    "The most important process simulated in Sedflux3D is delta plume sedimentation. This is being done by a module named 'Plume'. It assumes an incoming river with certain channel dimensions, and a given sediment concentration (for several grain size classes) and then calculates the resulting river plume dimensions upon entering in the marine domain.\n",
    "Settle rates are set for different grainsize classes and determine how rapidly sediment grains from the total sediment inventory settle out with distance from the river mouth. The theory behind the encoded plume dynamics originates from lab experiments (Albertson, 1950). Plume dynamics can be influenced by longshore currents or by Coriolis force and then result in a curved plume geometry. \n",
    "An additional important process is river mouth bedload deposition, separately calculated for the coarsest bedload grain size class. \n",
    "\n",
    "Sedflux can be used in both 2D (a line model) and 3D (planview with layers of deposition). This notebook show you an example of the 3D sedflux version. \n",
    "\n",
    "\n",
    "## Learning Objectives\n",
    "\n",
    "Topical skills\n",
    "- how suspended sediment spreads as an advection plume upon encountering a marine basin\n",
    "- what are the effects of different suspended sediment grainsize classes, and their settle rates on the depositional patterns\n",
    "\n",
    "Coding skills\n",
    "\n",
    "- how to read a csv file from a different directory\n",
    "- \n",
    "\n",
    "### References: \n",
    "\n",
    "Albertson, M.L., Dai, Y.B., Jensen, R.A., Hunter, R., 1950, Diffusion of submerged jets. American Society Civil Engineers Trans, v. 115, p. 639-697.\n",
    "\n",
    "Syvitski, J.P.M., Skene, K.I., Nicholson-Murray, K., Morehead, M., 1998a, PLUME 1.1; deposition of sediment from a fluvial plume. Computers & Geosciences, v. 24, 2, p. 159-171.\n",
    "\n",
    "Hutton, E. W. H. and Syvitski, J. P. M., 2008. Sedflux 2.0: An advanced process-response model that generates three-dimensional stratigraphy. Computer & Geosciences, 34, 1319-1337, Doi: 10.1016/j.cageo.2008.02.013.\n"
   ]
  },
  {
   "cell_type": "markdown",
   "metadata": {},
   "source": [
    "## Get started\n",
    "\n",
    "As always, we import several relevant Python libraries.\n",
    "Import the `Sedflux3D` component from `pymt`. All of the components available to `pymt` are located in `pymt.components`. Here I've named the component to be `sedflux` but remember that once you want to set up the model differently, and still keep some of the earlier output for comparisons, it may be needed to start a new instance."
   ]
  },
  {
   "cell_type": "code",
   "execution_count": null,
   "metadata": {},
   "outputs": [],
   "source": [
    "# specific for this notebook printing functionality\n",
    "from __future__ import print_function\n",
    "\n",
    "# for array manipulation\n",
    "import numpy as np\n",
    "\n",
    "# for other plotting\n",
    "import matplotlib.pyplot as plt\n",
    "\n",
    "# Some magic to make plots appear within the notebook\n",
    "%matplotlib inline\n",
    "\n"
   ]
  },
  {
   "cell_type": "code",
   "execution_count": null,
   "metadata": {},
   "outputs": [],
   "source": [
    "import pymt.models"
   ]
  },
  {
   "cell_type": "code",
   "execution_count": null,
   "metadata": {},
   "outputs": [],
   "source": [
    "#Instantiate a new Sedflux model \n",
    "\n",
    "sedflux = pymt.models.Sedflux3D()"
   ]
  },
  {
   "cell_type": "code",
   "execution_count": null,
   "metadata": {},
   "outputs": [],
   "source": [
    "# basic documentation associated with this open source model \n",
    "help(sedflux)"
   ]
  },
  {
   "cell_type": "code",
   "execution_count": null,
   "metadata": {},
   "outputs": [],
   "source": [
    "# Clean up in case you run this notebook from the start many times\n",
    "# this will ensure that the folders you made are cleaned up\n",
    "rm -rf sedflux"
   ]
  },
  {
   "cell_type": "markdown",
   "metadata": {},
   "source": [
    "We are now rather familiar with this procedure: \n",
    "First we instantiate the component and then call its `setup` method to create a model simulation with the necessary input files. `setup` takes an optional argument that gives a path to a folder that will contain the necessary input files (if not provided, a temporary folder will be used). `setup` returns the name of the config file and the path to the folder containing it (we'll use this information later when we run `initialize`)."
   ]
  },
  {
   "cell_type": "code",
   "execution_count": null,
   "metadata": {},
   "outputs": [],
   "source": [
    "config_file, initdir = sedflux.setup('run1', run_duration=3650000.)"
   ]
  },
  {
   "cell_type": "markdown",
   "metadata": {},
   "source": [
    "If we look inside the `run1` folder, we can see all of the necessary sedflux input files ready to run."
   ]
  },
  {
   "cell_type": "code",
   "execution_count": null,
   "metadata": {},
   "outputs": [],
   "source": [
    "ls run1"
   ]
  },
  {
   "cell_type": "markdown",
   "metadata": {},
   "source": [
    "# Assignment 1 \n",
    "\n",
    "Let's explore a bit how we are setting up the sedflux model. Recall sedflux is a marine sedimentation model, it transfers sediment of a river into the ocean by simulating delta plumes. \n",
    "\n",
    "Write code to read in the sea level file. It is called 'sedflux_3d_sea_level.csv', and located in your run1 directory.\n",
    "Print out the file values, and interpret what is being printed. \n",
    "Describe what implications this has for a delta progradation simulation.\n"
   ]
  },
  {
   "cell_type": "code",
   "execution_count": null,
   "metadata": {},
   "outputs": [],
   "source": [
    "# your code goes here.\n"
   ]
  },
  {
   "cell_type": "code",
   "execution_count": null,
   "metadata": {},
   "outputs": [],
   "source": [
    "# your explanation of the file and your ideas/hyothesis of sea level on delta progradation goes here"
   ]
  },
  {
   "cell_type": "markdown",
   "metadata": {},
   "source": [
    "# Assignment 2\n",
    "\n",
    "If you browsed a bit in the newly generated folder ./run1 you would see a score of other input files. \n",
    "There is one that controls all active processes (sedflux_3d_process.kvf), one that sets the river input (sedflux_3d_river.kvf) etc. \n",
    "\n",
    "Open the sedflux_3D_sediment.kvf file\n",
    "\n",
    "Interpret what input parameters are being set in this file.\n",
    "- how many sediment classes are being used in this simulation?\n",
    "- what is removal rate? Why is it so different for the different classes?\n"
   ]
  },
  {
   "cell_type": "code",
   "execution_count": null,
   "metadata": {},
   "outputs": [],
   "source": [
    "# your explaination of the input parameters goes here\n",
    "\n"
   ]
  },
  {
   "cell_type": "markdown",
   "metadata": {},
   "source": [
    "The `initialize` method reads all of the input files and gets the model ready to update through time."
   ]
  },
  {
   "cell_type": "code",
   "execution_count": null,
   "metadata": {},
   "outputs": [],
   "source": [
    "sedflux.initialize(config_file, dir=initdir)"
   ]
  },
  {
   "cell_type": "code",
   "execution_count": null,
   "metadata": {},
   "outputs": [],
   "source": [
    "# here we specify the properties of the incoming river dynamics, its flow velocity, its depth and width and sediment concentration\n",
    "sedflux.set_value(\"channel_exit_water_flow__speed\", 1.2)\n",
    "sedflux.set_value(\"channel_exit_x-section__mean_of_width\", 400.)\n",
    "sedflux.set_value(\"channel_exit_x-section__mean_of_depth\", 4.)\n",
    "sedflux.set_value(\"channel_exit_water_sediment~suspended__mass_concentration\", .01)"
   ]
  },
  {
   "cell_type": "markdown",
   "metadata": {},
   "source": [
    "## Assignment 3\n",
    "\n",
    "\n",
    "Find out what are the units of the water flow speed and the suspended mass concentration. "
   ]
  },
  {
   "cell_type": "code",
   "execution_count": null,
   "metadata": {},
   "outputs": [],
   "source": [
    "# your code to retrieve units of the parameters goes here."
   ]
  },
  {
   "cell_type": "markdown",
   "metadata": {},
   "source": [
    "# Controlling the time steps of the simulation\n",
    "\n",
    "Here we update the model for 10 time steps, printing the model time after each step."
   ]
  },
  {
   "cell_type": "code",
   "execution_count": null,
   "metadata": {},
   "outputs": [],
   "source": [
    "for t in range(10):\n",
    "    sedflux.update()\n",
    "    print(sedflux.time)"
   ]
  },
  {
   "cell_type": "markdown",
   "metadata": {},
   "source": [
    "From the output it appears that sedflux is operating on a 1 year time step and is using units of *days*. We can double check that assumption."
   ]
  },
  {
   "cell_type": "code",
   "execution_count": null,
   "metadata": {
    "scrolled": true
   },
   "outputs": [],
   "source": [
    "sedflux.time_units"
   ]
  },
  {
   "cell_type": "markdown",
   "metadata": {},
   "source": [
    "Yep, *days*. And the time step..."
   ]
  },
  {
   "cell_type": "code",
   "execution_count": null,
   "metadata": {},
   "outputs": [],
   "source": [
    "sedflux.time_step"
   ]
  },
  {
   "cell_type": "markdown",
   "metadata": {},
   "source": [
    "The `update_until` method gives us more control by allowing us to update to a particular time. Using the `units` keyword allows us to specify the \"until\" time. Here we update the model until 200 years."
   ]
  },
  {
   "cell_type": "code",
   "execution_count": null,
   "metadata": {},
   "outputs": [],
   "source": [
    "sedflux.update_until(200., units='year')\n",
    "sedflux.time"
   ]
  },
  {
   "cell_type": "code",
   "execution_count": null,
   "metadata": {},
   "outputs": [],
   "source": [
    "sedflux.time_units = 'year'\n",
    "print(sedflux.time)"
   ]
  },
  {
   "cell_type": "markdown",
   "metadata": {},
   "source": [
    "We've covered how to setup and run a model, now we'll have a look at how to get data out of the model. This is done with the `get_value` method but first we need to look at what variables the model provides. This is held as a tuple of variable names and accessed through the `output_var_names` attribute."
   ]
  },
  {
   "cell_type": "code",
   "execution_count": null,
   "metadata": {},
   "outputs": [],
   "source": [
    "sedflux.output_var_names"
   ]
  },
  {
   "cell_type": "markdown",
   "metadata": {},
   "source": [
    "# Assignment 4\n",
    "\n",
    "So we learned that Sedflux is a stratigraphic model. That means the model generates depositional packages over time in the basin. From the list of output parameters, identify two parameters that would be important descriptors of deposited layers for subsurface characterization. Explain how these two parameters would be important.\n",
    "\n",
    "Also, the model keeps track of deposits age. \n",
    "How would this work in the model code? \n",
    "Why would the parameter be called 'sediment__mean_of_deposition_age'?"
   ]
  },
  {
   "cell_type": "code",
   "execution_count": null,
   "metadata": {},
   "outputs": [],
   "source": [
    "# your answers go here\n",
    "\n"
   ]
  },
  {
   "cell_type": "code",
   "execution_count": null,
   "metadata": {},
   "outputs": [],
   "source": [
    "sedflux.input_var_names"
   ]
  },
  {
   "cell_type": "markdown",
   "metadata": {},
   "source": [
    "So to get the values of, say, water depth,"
   ]
  },
  {
   "cell_type": "code",
   "execution_count": null,
   "metadata": {},
   "outputs": [],
   "source": [
    "sedflux.get_value('sea_water__depth')"
   ]
  },
  {
   "cell_type": "markdown",
   "metadata": {},
   "source": [
    "As with previous methods, you can use the `units` keyword to specify units. Here we get water depths in units of parsecs."
   ]
  },
  {
   "cell_type": "code",
   "execution_count": null,
   "metadata": {},
   "outputs": [],
   "source": [
    "sedflux.quick_plot('sea_water__depth', vmin=-30, vmax=100, cmap='BrBG_r')"
   ]
  },
  {
   "cell_type": "code",
   "execution_count": null,
   "metadata": {},
   "outputs": [],
   "source": [
    "# for the next 100 years of run time, we set the river sediment load to be significantly higher\n",
    "sedflux.set_value(\"channel_exit_water_sediment~suspended__mass_concentration\", .5)\n",
    "for t in range(100):\n",
    "    sedflux.update()\n",
    "sedflux.quick_plot('sea_water__depth', vmin=-30, vmax=100, cmap='BrBG_r')"
   ]
  },
  {
   "cell_type": "markdown",
   "metadata": {},
   "source": [
    "# Assignment 5\n",
    "\n",
    "Describe what the plot shows you."
   ]
  },
  {
   "cell_type": "code",
   "execution_count": null,
   "metadata": {},
   "outputs": [],
   "source": [
    "# your answer goes here\n"
   ]
  },
  {
   "cell_type": "markdown",
   "metadata": {},
   "source": [
    "# Assignment 6\n",
    "\n",
    "Instead of showing water depth after the simulation, can you make two planview maps of the distribution of sand and mud over the sea floor? Think about how you would need to change the axis limits for the plot.\n",
    "\n",
    "And, instead of using the color map for land and sea floor, perhaps use another colormap. \n",
    "\n",
    "You can find more ideas for picking an appropriate color map here: https://matplotlib.org/3.1.0/tutorials/colors/colormaps.html\n"
   ]
  },
  {
   "cell_type": "code",
   "execution_count": null,
   "metadata": {},
   "outputs": [],
   "source": [
    "# your code for sand distribution goes here\n"
   ]
  },
  {
   "cell_type": "code",
   "execution_count": null,
   "metadata": {},
   "outputs": [],
   "source": [
    "# your code for silt or mud distribution goes here"
   ]
  },
  {
   "cell_type": "code",
   "execution_count": null,
   "metadata": {},
   "outputs": [],
   "source": [
    "# Describe what the two grainsize maps show you. Is this logical?"
   ]
  },
  {
   "cell_type": "markdown",
   "metadata": {},
   "source": [
    "# Assignment 7 \n",
    "\n",
    "Run the Sedflux model for an additional 100 years, but set the river to be 4 times as wide, less deep and (consequently) to have a lower flow velocity. \n"
   ]
  },
  {
   "cell_type": "code",
   "execution_count": null,
   "metadata": {},
   "outputs": [],
   "source": [
    "# plot here the updated sand distribution"
   ]
  },
  {
   "cell_type": "code",
   "execution_count": null,
   "metadata": {},
   "outputs": [],
   "source": [
    "sedflux.finalize()"
   ]
  },
  {
   "cell_type": "markdown",
   "metadata": {},
   "source": [
    "# BONUS ASSIGNMENT 8\n",
    "\n",
    "Set up a new Sedflux3D run. \n",
    "Replace the sea level file with a more rapidly changing sea level, cast a hypothesis about what your sea water depth and sand maps at the end of the run would look like. \n",
    "\n",
    "Run for 200 years. <br>\n",
    "Plot the sea water depth map and the sand distribution map at the end of the simulation for theses sea level conditions <br>\n"
   ]
  },
  {
   "cell_type": "code",
   "execution_count": null,
   "metadata": {},
   "outputs": [],
   "source": []
  }
 ],
 "metadata": {
  "kernelspec": {
   "display_name": "Python 3",
   "language": "python",
   "name": "python3"
  },
  "language_info": {
   "codemirror_mode": {
    "name": "ipython",
    "version": 3
   },
   "file_extension": ".py",
   "mimetype": "text/x-python",
   "name": "python",
   "nbconvert_exporter": "python",
   "pygments_lexer": "ipython3",
   "version": "3.7.3"
  }
 },
 "nbformat": 4,
 "nbformat_minor": 2
}
