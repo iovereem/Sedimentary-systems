{
 "cells": [
  {
   "cell_type": "markdown",
   "metadata": {},
   "source": [
    "## Coastline Evolution Model\n",
    "\n",
    "The Coastline Evolution Model (CEM) addresses predominately sandy, wave-dominated coastlines on time-scales ranging from years to millenia and on spatial scales ranging from kilometers to hundreds of kilometers. Shoreline evolution results from gradients in wave-driven alongshore sediment transport. \n",
    "At its most basic level, the model follows a'one-line' modeling approach, where the cross-shore dimension is collapsed into a single data point. However, the model allows the planview shoreline to take on arbitrary local orientations, and even fold back upon itself, as complex shapes such as capes and spits form under some wave climates (distributions of wave influences from different approach angles). So the model works on a 2D grid.\n",
    "\n",
    "The model has been used to represent varying geology underlying a sandy coastline and shoreface in a simplified manner and enables the simulation of coastline evolution when sediment supply from an eroding shoreface may be constrained. CEM also supports the simulation of human manipulations to coastline evolution through beach nourishment or hard structures.\n",
    "\n",
    "CEM authors & developers: Andrew Ashton, Brad Murray, Jaap Nienhuis and others.\n",
    "\n",
    "This notebook has been created by Irina Overeem, October 2020 for Sedimentary Systems Modeling course.\n",
    "\n",
    "\n",
    "### Key References\n",
    "\n",
    "Ashton, A.D., Murray, B., Arnault, O. 2001. Formation of coastline features by large-scale instabilities induced by high-angle waves, Nature 414.\n",
    "\n",
    "Ashton, A. D., and A. B. Murray (2006), High-angle wave instability and emergent shoreline shapes: 1. Modeling of sand waves, flying spits, and capes, J. Geophys. Res., 111, F04011, doi:10.1029/2005JF000422.\n",
    "\n",
    "\n",
    "### Links\n",
    "* [CEM source code](https://github.com/csdms/cem-old/tree/mcflugen/add-function-pointers): for background reference only, here you can look at the files that have *deltas* in their name.\n",
    "* [CEM description on CSDMS](http://csdms.colorado.edu/wiki/Model_help:CEM): Detailed information on the CEM model."
   ]
  },
  {
   "cell_type": "markdown",
   "metadata": {},
   "source": [
    "### Interacting with the Coastline Evolution Model BMI using Python"
   ]
  },
  {
   "cell_type": "code",
   "execution_count": 1,
   "metadata": {},
   "outputs": [],
   "source": [
    "import numpy as np\n",
    "import matplotlib.pyplot as plt\n",
    "\n",
    "#Some magic that allows us to view images within the notebook.\n",
    "%matplotlib inline"
   ]
  },
  {
   "cell_type": "markdown",
   "metadata": {},
   "source": [
    "Import the `Cem` class. In Python, a model with a Basic Model Interface (BMI) will have no arguments for its constructor. Note that although the class has been instantiated, it's not yet ready to be run. We'll get to that later!"
   ]
  },
  {
   "cell_type": "code",
   "execution_count": 2,
   "metadata": {},
   "outputs": [
    {
     "name": "stderr",
     "output_type": "stream",
     "text": [
      "\u001b[33;01m➡ models: Avulsion, Plume, Sedflux3D, Subside, Rafem, PRMSSurface, PRMSStreamflow, PRMSSoil, PRMSGroundwater, FrostNumber, Ku, Hydrotrend, GIPL, ECSimpleSnow, Cem, Waves\u001b[39;49;00m\n"
     ]
    }
   ],
   "source": [
    "import pymt.models\n",
    "cem = pymt.models.Cem()"
   ]
  },
  {
   "cell_type": "markdown",
   "metadata": {},
   "source": [
    "Even though we can't run our waves model yet, we can still get some information about it. Some things we can do with our model are to get help, to get the names of the input variables or output variables."
   ]
  },
  {
   "cell_type": "code",
   "execution_count": 3,
   "metadata": {},
   "outputs": [
    {
     "name": "stdout",
     "output_type": "stream",
     "text": [
      "Help on Cem in module pymt.framework.bmi_bridge object:\n",
      "\n",
      "class Cem(BmiCap)\n",
      " |  Basic Model Interface for cem.\n",
      " |  \n",
      " |  The Coastline Evolution Model addresses predominately sandy, wave-\n",
      " |  dominated coastlines on time scales ranging from years to millenia and\n",
      " |  on spatial scales ranging from kilometers to hundreds of kilometers.\n",
      " |  CEM simulates planview coastline evolution due to wave-driven\n",
      " |  alongshore sediment transport. This model can incorporate river\n",
      " |  influence and transport fluvial sediment from one or more point\n",
      " |  sources along the coastline.\n",
      " |  \n",
      " |  Author:\n",
      " |  - A. Brad Murray\n",
      " |  Version: 0.1.1\n",
      " |  License: MIT\n",
      " |  DOI: 10.1594/IEDA/100100\n",
      " |  URL: http://csdms.colorado.edu/wiki/Model_help:CEM\n",
      " |  \n",
      " |  \n",
      " |  \n",
      " |  Parameters\n",
      " |  ----------\n",
      " |  grid_spacing : float, optional\n",
      " |      Grid resolution in cross and along-shore direction [default=1000.0 m]\n",
      " |  number_of_cols : int, optional\n",
      " |      Number of columns in the computational grid [default=1000 -]\n",
      " |  number_of_rows : int, optional\n",
      " |      Number of rows in the computational grid [default=50 -]\n",
      " |  run_duration : int, optional\n",
      " |      Simulation run time [default=3650 d]\n",
      " |  sediment_flux_flag : str, optional\n",
      " |      Sediment flux flag [default=1 ]\n",
      " |  shelf_slope : float, optional\n",
      " |      Gradient of the shelf [default=0.001 -]\n",
      " |  shoreface_depth : float, optional\n",
      " |      Water depth of the shoreface [default=10.0 m]\n",
      " |  shoreface_slope : float, optional\n",
      " |      Gradient of the shoreface [default=0.01 -]\n",
      " |  \n",
      " |  Examples\n",
      " |  --------\n",
      " |  >>> from pymt.models import cem\n",
      " |  >>> model = cem()\n",
      " |  >>> (fname, initdir) = model.setup()\n",
      " |  >>> model.initialize(fname, dir=initdir)\n",
      " |  >>> for _ in xrange(10):\n",
      " |  ...     model.update()\n",
      " |  >>> model.finalize()\n",
      " |  \n",
      " |  Method resolution order:\n",
      " |      Cem\n",
      " |      BmiCap\n",
      " |      pymt.framework.bmi_mapper.GridMapperMixIn\n",
      " |      _BmiCap\n",
      " |      DeprecatedMethods\n",
      " |      pymt.framework.bmi_timeinterp.BmiTimeInterpolator\n",
      " |      pymt.framework.bmi_setup.SetupMixIn\n",
      " |      builtins.object\n",
      " |  \n",
      " |  Methods defined here:\n",
      " |  \n",
      " |  __repr__(self)\n",
      " |  \n",
      " |  __str__(self)\n",
      " |  \n",
      " |  ----------------------------------------------------------------------\n",
      " |  Methods inherited from pymt.framework.bmi_mapper.GridMapperMixIn:\n",
      " |  \n",
      " |  map_to(self, name, **kwds)\n",
      " |      Map values to another grid.\n",
      " |      \n",
      " |      Parameters\n",
      " |      ----------\n",
      " |      name : str\n",
      " |          Name of values to push.\n",
      " |  \n",
      " |  map_value(self, name, **kwds)\n",
      " |      Map values from another grid.\n",
      " |      \n",
      " |      Parameters\n",
      " |      ----------\n",
      " |      name : str\n",
      " |          Name of values to map to.\n",
      " |      mapfrom : tuple or bmi_like, optional\n",
      " |          BMI object from which values are mapped from. This can also be\n",
      " |          a tuple of *(name, bmi)*, where *name* is the variable of the\n",
      " |          source grid and *bmi* is the bmi-like source. If not provided,\n",
      " |          use *self*.\n",
      " |      nomap : narray of bool, optional\n",
      " |          Values in the destination grid to not map.\n",
      " |  \n",
      " |  regrid(self, name, **kwds)\n",
      " |      Regrid values from one grid to another.\n",
      " |      \n",
      " |      Parameters\n",
      " |      ----------\n",
      " |      name : str\n",
      " |          Name of the values to regrid.\n",
      " |      to : bmi_like, optional\n",
      " |          BMI object onto which to map values. If not provided, map\n",
      " |          values onto one of the object's own grids.\n",
      " |      to_name : str, optional\n",
      " |          Name of the value to map onto. If not provided, use *name*.\n",
      " |      \n",
      " |      Returns\n",
      " |      -------\n",
      " |      ndarray\n",
      " |          The regridded values.\n",
      " |  \n",
      " |  set_value(self, name, *args, **kwds)\n",
      " |      Set values for a variable.\n",
      " |      set_value(name, value)\n",
      " |      set_value(name, mapfrom=self, nomap=None)\n",
      " |      \n",
      " |      Parameters\n",
      " |      ----------\n",
      " |      name : str\n",
      " |          Name of the destination values.\n",
      " |  \n",
      " |  ----------------------------------------------------------------------\n",
      " |  Data descriptors inherited from pymt.framework.bmi_mapper.GridMapperMixIn:\n",
      " |  \n",
      " |  __dict__\n",
      " |      dictionary for instance variables (if defined)\n",
      " |  \n",
      " |  __weakref__\n",
      " |      list of weak references to the object (if defined)\n",
      " |  \n",
      " |  ----------------------------------------------------------------------\n",
      " |  Methods inherited from _BmiCap:\n",
      " |  \n",
      " |  __init__(self)\n",
      " |      Initialize self.  See help(type(self)) for accurate signature.\n",
      " |  \n",
      " |  as_dict(self)\n",
      " |  \n",
      " |  as_json(self)\n",
      " |  \n",
      " |  as_yaml(self)\n",
      " |  \n",
      " |  finalize(self)\n",
      " |  \n",
      " |  get_component_name(self)\n",
      " |  \n",
      " |  get_input_var_names(self)\n",
      " |  \n",
      " |  get_output_var_names(self)\n",
      " |  \n",
      " |  get_value(self, name, out=None, units=None, angle=None, at=None, method=None)\n",
      " |  \n",
      " |  get_value_ptr(self, name)\n",
      " |  \n",
      " |  grid_dim(self, grid, dim)\n",
      " |  \n",
      " |  grid_edge_count(self, grid)\n",
      " |  \n",
      " |  grid_face_count(self, grid)\n",
      " |  \n",
      " |  grid_face_node_connectivity(self, grid, out=None)\n",
      " |  \n",
      " |  grid_face_node_offset(self, grid, out=None)\n",
      " |  \n",
      " |  grid_face_nodes(self, grid, out=None)\n",
      " |  \n",
      " |  grid_ndim(self, grid)\n",
      " |  \n",
      " |  grid_node_count(self, grid)\n",
      " |  \n",
      " |  grid_nodes_per_face(self, grid, out=None)\n",
      " |  \n",
      " |  grid_origin(self, grid, out=None)\n",
      " |  \n",
      " |  grid_shape(self, grid, out=None)\n",
      " |  \n",
      " |  grid_spacing(self, grid, out=None)\n",
      " |  \n",
      " |  grid_type(self, grid)\n",
      " |  \n",
      " |  grid_vertex_count(self, grid)\n",
      " |  \n",
      " |  grid_x(self, grid, out=None)\n",
      " |  \n",
      " |  grid_y(self, grid, out=None)\n",
      " |  \n",
      " |  grid_z(self, grid, out=None)\n",
      " |  \n",
      " |  initialize(self, fname=None, dir='.')\n",
      " |      Initialize the model.\n",
      " |      \n",
      " |      Parameters\n",
      " |      ----------\n",
      " |      fname : str\n",
      " |          Name of initialization file.\n",
      " |      dir : str\n",
      " |          Path to folder in which to run initialization.\n",
      " |  \n",
      " |  quick_plot(self, name, **kwds)\n",
      " |  \n",
      " |  time_from(self, time, units)\n",
      " |  \n",
      " |  time_in(self, time, units)\n",
      " |  \n",
      " |  update(self)\n",
      " |  \n",
      " |  var_grid(self, name)\n",
      " |  \n",
      " |  var_grid_loc(self, name)\n",
      " |  \n",
      " |  var_intent(self, name)\n",
      " |  \n",
      " |  var_itemsize(self, name)\n",
      " |  \n",
      " |  var_location(self, name)\n",
      " |  \n",
      " |  var_nbytes(self, name)\n",
      " |  \n",
      " |  var_type(self, name)\n",
      " |  \n",
      " |  var_units(self, name)\n",
      " |  \n",
      " |  ----------------------------------------------------------------------\n",
      " |  Data descriptors inherited from _BmiCap:\n",
      " |  \n",
      " |  bmi\n",
      " |  \n",
      " |  end_time\n",
      " |  \n",
      " |  grid\n",
      " |  \n",
      " |  initdir\n",
      " |  \n",
      " |  input_var_names\n",
      " |  \n",
      " |  name\n",
      " |  \n",
      " |  output_var_names\n",
      " |  \n",
      " |  start_time\n",
      " |  \n",
      " |  time\n",
      " |  \n",
      " |  time_step\n",
      " |  \n",
      " |  time_units\n",
      " |  \n",
      " |  var\n",
      " |  \n",
      " |  ----------------------------------------------------------------------\n",
      " |  Data and other attributes inherited from _BmiCap:\n",
      " |  \n",
      " |  NUMBER_OF_ELEMENTS = {'edge': 'grid_edge_count', 'face': 'grid_face_co...\n",
      " |  \n",
      " |  ----------------------------------------------------------------------\n",
      " |  Methods inherited from DeprecatedMethods:\n",
      " |  \n",
      " |  get_grid_dim(self, grid, dim)\n",
      " |  \n",
      " |  get_grid_face_node_connectivity(self, grid, out=None)\n",
      " |  \n",
      " |  get_grid_face_node_offset(self, grid, out=None)\n",
      " |  \n",
      " |  get_grid_face_nodes(self, grid, out=None)\n",
      " |  \n",
      " |  get_grid_ndim(self, grid)\n",
      " |  \n",
      " |  get_grid_nodes_per_face(self, grid, out=None)\n",
      " |  \n",
      " |  get_grid_number_of_edges(self, grid)\n",
      " |  \n",
      " |  get_grid_number_of_faces(self, grid)\n",
      " |  \n",
      " |  get_grid_number_of_nodes(self, grid)\n",
      " |  \n",
      " |  get_grid_number_of_vertices(self, grid)\n",
      " |  \n",
      " |  get_grid_origin(self, grid, out=None)\n",
      " |  \n",
      " |  get_grid_rank(self, grid)\n",
      " |  \n",
      " |  get_grid_shape(self, grid, out=None)\n",
      " |  \n",
      " |  get_grid_size(self, grid)\n",
      " |  \n",
      " |  get_grid_spacing(self, grid, out=None)\n",
      " |  \n",
      " |  get_grid_type(self, grid)\n",
      " |  \n",
      " |  get_grid_x(self, grid, out=None)\n",
      " |  \n",
      " |  get_grid_y(self, grid, out=None)\n",
      " |  \n",
      " |  get_grid_z(self, grid, out=None)\n",
      " |  \n",
      " |  get_var_grid(self, name)\n",
      " |  \n",
      " |  get_var_grid_loc(self, name)\n",
      " |  \n",
      " |  get_var_intent(self, name)\n",
      " |  \n",
      " |  get_var_itemsize(self, name)\n",
      " |  \n",
      " |  get_var_location(self, name)\n",
      " |  \n",
      " |  get_var_nbytes(self, name)\n",
      " |  \n",
      " |  get_var_type(self, name)\n",
      " |  \n",
      " |  get_var_units(self, name)\n",
      " |  \n",
      " |  ----------------------------------------------------------------------\n",
      " |  Methods inherited from pymt.framework.bmi_timeinterp.BmiTimeInterpolator:\n",
      " |  \n",
      " |  add_data(self)\n",
      " |  \n",
      " |  interpolate(self, name, at)\n",
      " |  \n",
      " |  reset(self, method='linear')\n",
      " |  \n",
      " |  update_until(self, then, method=None, units=None)\n",
      " |  \n",
      " |  ----------------------------------------------------------------------\n",
      " |  Methods inherited from pymt.framework.bmi_setup.SetupMixIn:\n",
      " |  \n",
      " |  setup(self, *args, **kwds)\n",
      " |      Set up a simulation.\n",
      " |      \n",
      " |      Parameters\n",
      " |      ----------\n",
      " |      path : str, optional\n",
      " |          Path to a folder to set up the simulation. If not given,\n",
      " |          use a temporary folder.\n",
      " |      \n",
      " |      Returns\n",
      " |      -------\n",
      " |      str\n",
      " |          Path to the folder that contains the set up simulation.\n",
      " |  \n",
      " |  ----------------------------------------------------------------------\n",
      " |  Data descriptors inherited from pymt.framework.bmi_setup.SetupMixIn:\n",
      " |  \n",
      " |  author\n",
      " |  \n",
      " |  cite_as\n",
      " |  \n",
      " |  contact\n",
      " |  \n",
      " |  datadir\n",
      " |  \n",
      " |  defaults\n",
      " |  \n",
      " |  doi\n",
      " |  \n",
      " |  email\n",
      " |  \n",
      " |  license\n",
      " |  \n",
      " |  parameters\n",
      " |  \n",
      " |  summary\n",
      " |  \n",
      " |  url\n",
      " |  \n",
      " |  version\n",
      "\n"
     ]
    }
   ],
   "source": [
    "help(cem)"
   ]
  },
  {
   "cell_type": "code",
   "execution_count": 4,
   "metadata": {},
   "outputs": [
    {
     "data": {
      "text/plain": [
       "('sea_surface_water_wave__azimuth_angle_of_opposite_of_phase_velocity',\n",
       " 'land_surface_water_sediment~bedload__mass_flow_rate',\n",
       " 'sea_surface_water_wave__period',\n",
       " 'sea_surface_water_wave__height',\n",
       " 'land_surface__elevation',\n",
       " 'model__time_step')"
      ]
     },
     "execution_count": 4,
     "metadata": {},
     "output_type": "execute_result"
    }
   ],
   "source": [
    "cem.input_var_names"
   ]
  },
  {
   "cell_type": "code",
   "execution_count": 5,
   "metadata": {},
   "outputs": [
    {
     "data": {
      "text/plain": [
       "('basin_outlet~coastal_center__x_coordinate',\n",
       " 'basin_outlet~coastal_water_sediment~bedload__mass_flow_rate',\n",
       " 'land_surface__elevation',\n",
       " 'sea_water__depth',\n",
       " 'basin_outlet~coastal_center__y_coordinate',\n",
       " 'model__time_step')"
      ]
     },
     "execution_count": 5,
     "metadata": {},
     "output_type": "execute_result"
    }
   ],
   "source": [
    "cem.output_var_names"
   ]
  },
  {
   "cell_type": "markdown",
   "metadata": {},
   "source": [
    "We can also get information about specific variables. Here we'll look at some info about wave direction. This is the main input of the Cem model. Notice that BMI components always use [CSDMS standard names](http://csdms.colorado.edu/wiki/CSDMS_Standard_Names). The CSDMS Standard Name for wave angle is,\n",
    "\n",
    "    \"sea_surface_water_wave__azimuth_angle_of_opposite_of_phase_velocity\"\n",
    "\n",
    "Quite a mouthful, I know. With that name we can get information about that variable and the grid that it is on (it's actually not a one)."
   ]
  },
  {
   "cell_type": "code",
   "execution_count": 12,
   "metadata": {},
   "outputs": [
    {
     "name": "stdout",
     "output_type": "stream",
     "text": [
      "Data type: float64\n",
      "Units: radians\n",
      "Grid id: 0\n",
      "Number of elements in grid: 1\n",
      "Type of grid: scalar\n"
     ]
    }
   ],
   "source": [
    "angle_name = 'sea_surface_water_wave__azimuth_angle_of_opposite_of_phase_velocity'\n",
    "\n",
    "print(\"Data type: %s\" % cem.var_type(angle_name))\n",
    "print(\"Units: %s\" % cem.var_units(angle_name))\n",
    "print(\"Grid id: %d\" % cem.var_grid(angle_name))\n",
    "print(\"Number of elements in grid: %d\" % cem.grid_node_count(0))\n",
    "print(\"Type of grid: %s\" % cem.grid_type(0))"
   ]
  },
  {
   "cell_type": "markdown",
   "metadata": {},
   "source": [
    "First we initialize the model with the BMI **initialize** method. Normally we would pass it a string that represents the name of an input file. For this example we'll pass **None**, which tells Cem to use some defaults."
   ]
  },
  {
   "cell_type": "code",
   "execution_count": 13,
   "metadata": {},
   "outputs": [],
   "source": [
    "args = cem.setup(number_of_rows=100, number_of_cols=200, grid_spacing=200.)"
   ]
  },
  {
   "cell_type": "code",
   "execution_count": 14,
   "metadata": {},
   "outputs": [],
   "source": [
    "cem.initialize(*args)"
   ]
  },
  {
   "cell_type": "markdown",
   "metadata": {},
   "source": [
    "Before running the model, let's set a couple input parameters. These two parameters represent the wave height and wave period of the incoming waves to the coastline."
   ]
  },
  {
   "cell_type": "code",
   "execution_count": 9,
   "metadata": {},
   "outputs": [
    {
     "data": {
      "text/plain": [
       "array([ 0.])"
      ]
     },
     "execution_count": 9,
     "metadata": {},
     "output_type": "execute_result"
    }
   ],
   "source": [
    "cem.set_value(\"sea_surface_water_wave__height\", 1.5)\n",
    "cem.set_value(\"sea_surface_water_wave__period\", 7.)\n",
    "cem.set_value(\"sea_surface_water_wave__azimuth_angle_of_opposite_of_phase_velocity\", 0. * np.pi / 180.)"
   ]
  },
  {
   "cell_type": "markdown",
   "metadata": {},
   "source": [
    "## Assignment 1\n",
    "\n",
    "Let's think about the wave conditions that are the input to this CEM model run. For both assignment 1 and 2 it will help to look theory up in the paper by Ashton & Murray 2001, and/or Ashton et al, 2006.\n",
    "\n",
    "How does wave height determine sediment transport? \n",
    "The relationship between sediment transport and wave height and period is non-linear. What are the implications of this non-linearity for the impact of lots of small ocean storms versus a few extreme storms with much higher wave height?"
   ]
  },
  {
   "cell_type": "code",
   "execution_count": 10,
   "metadata": {},
   "outputs": [],
   "source": [
    "# list your answers here"
   ]
  },
  {
   "cell_type": "markdown",
   "metadata": {},
   "source": [
    "## Assignment 2\n",
    "\n",
    "The other important part of the wave conditions that is input to CEM model is under what angle the waves approach the shore. It will help to read the paper by Ashton & Murray 2001, and the longer version by Ashton et al, 2006.\n",
    "Explain why incoming wave angle is an important control?\n"
   ]
  },
  {
   "cell_type": "code",
   "execution_count": 11,
   "metadata": {},
   "outputs": [],
   "source": [
    "# discuss wave angle here"
   ]
  },
  {
   "cell_type": "markdown",
   "metadata": {},
   "source": [
    "The CEM model operates on a grid, consisting of a number of rows and colums with values. \n",
    "The main output variable for this model is *water depth*, or bathymetry. In this case, the CSDMS Standard Name is much shorter:\n",
    "\n",
    "    \"sea_water__depth\"\n",
    "\n",
    "First we find out which of Cem's grids contains water depth. "
   ]
  },
  {
   "cell_type": "code",
   "execution_count": 16,
   "metadata": {},
   "outputs": [],
   "source": [
    "grid_id = cem.var_grid('sea_water__depth')"
   ]
  },
  {
   "cell_type": "markdown",
   "metadata": {},
   "source": [
    "With the *grid_id*, we can now get information about the grid. For instance, the number of dimension and the type of grid. This grid happens to be *uniform rectilinear*. If you were to look at the \"grid\" types for wave height and period, you would see that they aren't on grids at all but instead are scalars, or single values."
   ]
  },
  {
   "cell_type": "code",
   "execution_count": 18,
   "metadata": {},
   "outputs": [
    {
     "name": "stdout",
     "output_type": "stream",
     "text": [
      "Type of grid: uniform_rectilinear (2D)\n"
     ]
    }
   ],
   "source": [
    "grid_type = cem.grid_type(grid_id)\n",
    "grid_rank = cem.grid_ndim(grid_id)\n",
    "print('Type of grid: %s (%dD)' % (grid_type, grid_rank))"
   ]
  },
  {
   "cell_type": "markdown",
   "metadata": {},
   "source": [
    "Because this grid is uniform rectilinear, it is described by a set of methods that are only available for grids of this type. These methods include:\n",
    "* grid_shape\n",
    "* grid_spacing\n",
    "* grid_origin"
   ]
  },
  {
   "cell_type": "code",
   "execution_count": 20,
   "metadata": {},
   "outputs": [
    {
     "name": "stdout",
     "output_type": "stream",
     "text": [
      "The grid has 100 rows and 200 columns\n",
      "The spacing between rows is 200.000000 m and between columns is 200.000000 m\n"
     ]
    }
   ],
   "source": [
    "spacing = np.empty((grid_rank, ), dtype=float)\n",
    "\n",
    "shape = cem.grid_shape(grid_id)\n",
    "cem.grid_spacing(grid_id, out=spacing)\n",
    "\n",
    "print('The grid has %d rows and %d columns' % (shape[0], shape[1]))\n",
    "print('The spacing between rows is %f m and between columns is %f m' % (spacing[0], spacing[1]))"
   ]
  },
  {
   "cell_type": "markdown",
   "metadata": {},
   "source": [
    "Allocate memory for the water depth grid and get the current values from `cem`."
   ]
  },
  {
   "cell_type": "code",
   "execution_count": 21,
   "metadata": {},
   "outputs": [
    {
     "data": {
      "text/plain": [
       "array([[ -1. ,  -1. ,  -1. , ...,  -1. ,  -1. ,  -1. ],\n",
       "       [ -1. ,  -1. ,  -1. , ...,  -1. ,  -1. ,  -1. ],\n",
       "       [ -1. ,  -1. ,  -1. , ...,  -1. ,  -1. ,  -1. ],\n",
       "       ..., \n",
       "       [ 22.4,  22.4,  22.4, ...,  22.4,  22.4,  22.4],\n",
       "       [ 22.6,  22.6,  22.6, ...,  22.6,  22.6,  22.6],\n",
       "       [ 22.8,  22.8,  22.8, ...,  22.8,  22.8,  22.8]])"
      ]
     },
     "execution_count": 21,
     "metadata": {},
     "output_type": "execute_result"
    }
   ],
   "source": [
    "z = np.empty(shape, dtype=float)\n",
    "cem.get_value('sea_water__depth', out=z)"
   ]
  },
  {
   "cell_type": "markdown",
   "metadata": {},
   "source": [
    "Here I define a convenience function for plotting the water depth and making it look pretty. You don't need to worry too much about it's internals for this tutorial. It just saves us some typing later on."
   ]
  },
  {
   "cell_type": "code",
   "execution_count": 22,
   "metadata": {},
   "outputs": [],
   "source": [
    "# this is a function called plot_coast\n",
    "# we define the function and then will be able to 'call' it later\n",
    "\n",
    "def plot_coast(spacing, z):\n",
    "    import matplotlib.pyplot as plt\n",
    "    \n",
    "    xmin, xmax = 0., z.shape[1] * spacing[0] * 1e-3\n",
    "    ymin, ymax = 0., z.shape[0] * spacing[1] * 1e-3\n",
    "\n",
    "    plt.imshow(z, extent=[xmin, xmax, ymin, ymax], origin='lower', cmap='ocean')\n",
    "    plt.colorbar().ax.set_ylabel('Water Depth (m)')\n",
    "    plt.xlabel('Along shore (km)')\n",
    "    plt.ylabel('Cross shore (km)')"
   ]
  },
  {
   "cell_type": "markdown",
   "metadata": {},
   "source": [
    "It generates plots that look like this. We begin with a flat delta (green) and a linear coastline (y = 3 km). The bathymetry drops off linearly to the top of the domain to more than 20 m water depth."
   ]
  },
  {
   "cell_type": "code",
   "execution_count": 24,
   "metadata": {},
   "outputs": [
    {
     "data": {
      "image/png": "[encoded data removed]",
      "text/plain": [
       "<Figure size 432x288 with 2 Axes>"
      ]
     },
     "metadata": {
      "needs_background": "light"
     },
     "output_type": "display_data"
    }
   ],
   "source": [
    "# this is how you call the function\n",
    "plot_coast(spacing, z)"
   ]
  },
  {
   "cell_type": "markdown",
   "metadata": {},
   "source": [
    "Right now we have waves coming in but no sediment entering the ocean. To add a sediment source and specify its discharge, we need to figure out where to put it. For now we'll put it on a cell that's next to the ocean."
   ]
  },
  {
   "cell_type": "code",
   "execution_count": 25,
   "metadata": {},
   "outputs": [],
   "source": [
    "#Allocate memory for the sediment discharge array \n",
    "# and set the bedload sediment flux at the coastal cell to some value.\n",
    "qs = np.zeros_like(z)\n",
    "qs[0, 100] = 750"
   ]
  },
  {
   "cell_type": "markdown",
   "metadata": {},
   "source": [
    "The CSDMS Standard Name for this variable is:\n",
    "\n",
    "    \"land_surface_water_sediment~bedload__mass_flow_rate\"\n",
    "\n",
    "You can get an idea of the units based on the quantity part of the name. \"mass_flow_rate\" indicates mass per time. You can double-check this with the BMI method function **get_var_units**."
   ]
  },
  {
   "cell_type": "code",
   "execution_count": 27,
   "metadata": {},
   "outputs": [
    {
     "data": {
      "text/plain": [
       "'kg / s'"
      ]
     },
     "execution_count": 27,
     "metadata": {},
     "output_type": "execute_result"
    }
   ],
   "source": [
    "cem.var_units('land_surface_water_sediment~bedload__mass_flow_rate')"
   ]
  },
  {
   "cell_type": "markdown",
   "metadata": {},
   "source": [
    "## Assignment 3"
   ]
  },
  {
   "cell_type": "markdown",
   "metadata": {},
   "source": [
    "Here, we are introducing a river mouth of one gridcell of 200 by 200m. And we have arbitrarily specified a bedload flux of 750 kg/s. Is this a realistic incoming value?\n",
    "One way of seeing whether the model input is somewhat appropriate is to look at real-world data. We will do just that by using a very small data set of bedload transport in the river Rhine, the Netherlands.\n",
    "I posted a file on canvas - RhineBedload.csv\n",
    "The file list paired data values of Q in m3/sec and Qb in kg/s."
   ]
  },
  {
   "cell_type": "code",
   "execution_count": 20,
   "metadata": {},
   "outputs": [],
   "source": [
    "# read in the csv file of bedload measurements in the Rhine River, the Netherlands\n",
    "\n",
    "# these data were collected over different days over a season in 2004, at nearby locations.\n",
    "# plot how river discharge controls bedload; Q (x-axis) and Qb (y-axis) data. \n",
    "# label both axes\n"
   ]
  },
  {
   "cell_type": "markdown",
   "metadata": {},
   "source": [
    "## Assignment 4"
   ]
  },
  {
   "cell_type": "markdown",
   "metadata": {},
   "source": [
    "The bedload measurements were a combination of very different methods, and taken at different locations (although nearby). The data is quite scattered. But if you would fit a linear regression line through this data,\n",
    "you would find that the river discharge of the Rhine can be related to its bedload transport as: \n",
    "    Qb=0.0163*Q"
   ]
  },
  {
   "cell_type": "code",
   "execution_count": 21,
   "metadata": {},
   "outputs": [],
   "source": [
    "# extrapolate this relationship and calculate how much river discharge, Q, \n",
    "# would be needed to transport the model specification Qb of 750 kg/s\n"
   ]
  },
  {
   "cell_type": "code",
   "execution_count": null,
   "metadata": {},
   "outputs": [],
   "source": []
  },
  {
   "cell_type": "code",
   "execution_count": 28,
   "metadata": {},
   "outputs": [
    {
     "data": {
      "text/plain": [
       "(0.2, 'd', 0.0)"
      ]
     },
     "execution_count": 28,
     "metadata": {},
     "output_type": "execute_result"
    }
   ],
   "source": [
    "cem.time_step, cem.time_units, cem.time"
   ]
  },
  {
   "cell_type": "markdown",
   "metadata": {},
   "source": [
    "Set the bedload flux and run the model."
   ]
  },
  {
   "cell_type": "code",
   "execution_count": 29,
   "metadata": {},
   "outputs": [
    {
     "data": {
      "text/plain": [
       "array([[ -1. ,  -1. ,  -1. , ...,  -1. ,  -1. ,  -1. ],\n",
       "       [ -1. ,  -1. ,  -1. , ...,  -1. ,  -1. ,  -1. ],\n",
       "       [ -1. ,  -1. ,  -1. , ...,  -1. ,  -1. ,  -1. ],\n",
       "       ..., \n",
       "       [ 22.4,  22.4,  22.4, ...,  22.4,  22.4,  22.4],\n",
       "       [ 22.6,  22.6,  22.6, ...,  22.6,  22.6,  22.6],\n",
       "       [ 22.8,  22.8,  22.8, ...,  22.8,  22.8,  22.8]])"
      ]
     },
     "execution_count": 29,
     "metadata": {},
     "output_type": "execute_result"
    }
   ],
   "source": [
    "for time in range(3000):\n",
    "    cem.set_value('land_surface_water_sediment~bedload__mass_flow_rate', qs)\n",
    "    cem.update_until(time)\n",
    "    \n",
    "cem.get_value('sea_water__depth', out=z)"
   ]
  },
  {
   "cell_type": "code",
   "execution_count": 24,
   "metadata": {},
   "outputs": [
    {
     "data": {
      "text/plain": [
       "2999.0"
      ]
     },
     "execution_count": 24,
     "metadata": {},
     "output_type": "execute_result"
    }
   ],
   "source": [
    "cem.time"
   ]
  },
  {
   "cell_type": "code",
   "execution_count": 30,
   "metadata": {},
   "outputs": [
    {
     "data": {
      "image/png": "[encoded data removed]",
      "text/plain": [
       "<Figure size 432x288 with 2 Axes>"
      ]
     },
     "metadata": {
      "needs_background": "light"
     },
     "output_type": "display_data"
    }
   ],
   "source": [
    "cem.get_value('sea_water__depth', out=z)\n",
    "plot_coast(spacing, z)"
   ]
  },
  {
   "cell_type": "code",
   "execution_count": 26,
   "metadata": {},
   "outputs": [
    {
     "data": {
      "text/plain": [
       "array([  7.80000000e+01,   5.00000000e-02,   1.00000000e-01,\n",
       "         1.50000000e-01,   2.00000000e-01])"
      ]
     },
     "execution_count": 26,
     "metadata": {},
     "output_type": "execute_result"
    }
   ],
   "source": [
    "# this code gives you a handle on retrieving the position of the river mouth over time \n",
    "val = np.empty((5, ), dtype=float)\n",
    "cem.get_value(\"basin_outlet~coastal_center__x_coordinate\", val)\n",
    "val / 100."
   ]
  },
  {
   "cell_type": "code",
   "execution_count": 27,
   "metadata": {},
   "outputs": [
    {
     "name": "stdout",
     "output_type": "stream",
     "text": [
      "[  7.80000000e+03   5.00000000e+00   1.00000000e+01   1.50000000e+01\n",
      "   2.00000000e+01]\n"
     ]
    }
   ],
   "source": [
    "print(val)"
   ]
  },
  {
   "cell_type": "markdown",
   "metadata": {},
   "source": [
    "## Assignment 5\n",
    "\n",
    "Describe what the CEM model has simulated in 3000 timesteps. How far has this wave influenced delta prograded? \n",
    "Recall the R-factor for fluvial dominance (Nienhuis 2015). What would the R-factor be for this simulated system? (smaller then 1, larger then 1)? Motivate."
   ]
  },
  {
   "cell_type": "code",
   "execution_count": 28,
   "metadata": {},
   "outputs": [],
   "source": [
    "# your run description goes here"
   ]
  },
  {
   "cell_type": "markdown",
   "metadata": {},
   "source": [
    "## Assignment 6\n",
    "\n",
    "Let's add another sediment source with a different flux and update the model. remember that the Basic Model Interface allows you to update values and then continue a simulation"
   ]
  },
  {
   "cell_type": "code",
   "execution_count": 31,
   "metadata": {},
   "outputs": [
    {
     "data": {
      "text/plain": [
       "array([[ -1. ,  -1. ,  -1. , ...,  -1. ,  -1. ,  -1. ],\n",
       "       [ -1. ,  -1. ,  -1. , ...,  -1. ,  -1. ,  -1. ],\n",
       "       [ -1. ,  -1. ,  -1. , ...,  -1. ,  -1. ,  -1. ],\n",
       "       ..., \n",
       "       [ 22.4,  22.4,  22.4, ...,  22.4,  22.4,  22.4],\n",
       "       [ 22.6,  22.6,  22.6, ...,  22.6,  22.6,  22.6],\n",
       "       [ 22.8,  22.8,  22.8, ...,  22.8,  22.8,  22.8]])"
      ]
     },
     "execution_count": 31,
     "metadata": {},
     "output_type": "execute_result"
    }
   ],
   "source": [
    "# introduce a second river here\n",
    "qs[0, 150] = 1500\n",
    "\n",
    "# now run the model an additional 1000 timesteps\n",
    "for time in range(4000):\n",
    "    cem.set_value('land_surface_water_sediment~bedload__mass_flow_rate', qs)\n",
    "    cem.update_until(time)\n",
    "    \n",
    "cem.get_value('sea_water__depth', out=z)"
   ]
  },
  {
   "cell_type": "code",
   "execution_count": 32,
   "metadata": {},
   "outputs": [
    {
     "data": {
      "image/png": "[encoded data removed]",
      "text/plain": [
       "<Figure size 432x288 with 2 Axes>"
      ]
     },
     "metadata": {
      "needs_background": "light"
     },
     "output_type": "display_data"
    }
   ],
   "source": [
    "# call the plot coast function to plot the coastline with two river systems draining into the coastal zone\n",
    "plot_coast(spacing, z)"
   ]
  },
  {
   "cell_type": "markdown",
   "metadata": {},
   "source": [
    "Here we shut off the sediment supply completely."
   ]
  },
  {
   "cell_type": "code",
   "execution_count": 33,
   "metadata": {},
   "outputs": [
    {
     "data": {
      "text/plain": [
       "array([[ -1. ,  -1. ,  -1. , ...,  -1. ,  -1. ,  -1. ],\n",
       "       [ -1. ,  -1. ,  -1. , ...,  -1. ,  -1. ,  -1. ],\n",
       "       [ -1. ,  -1. ,  -1. , ...,  -1. ,  -1. ,  -1. ],\n",
       "       ..., \n",
       "       [ 22.4,  22.4,  22.4, ...,  22.4,  22.4,  22.4],\n",
       "       [ 22.6,  22.6,  22.6, ...,  22.6,  22.6,  22.6],\n",
       "       [ 22.8,  22.8,  22.8, ...,  22.8,  22.8,  22.8]])"
      ]
     },
     "execution_count": 33,
     "metadata": {},
     "output_type": "execute_result"
    }
   ],
   "source": [
    "qs.fill(0.)\n",
    "for time in range(4500):\n",
    "    cem.set_value('land_surface_water_sediment~bedload__mass_flow_rate', qs)\n",
    "    cem.update_until(time)\n",
    "    \n",
    "cem.get_value('sea_water__depth', out=z)"
   ]
  },
  {
   "cell_type": "code",
   "execution_count": 32,
   "metadata": {},
   "outputs": [
    {
     "data": {
      "image/png": "[encoded data removed]",
      "text/plain": [
       "<Figure size 432x288 with 2 Axes>"
      ]
     },
     "metadata": {
      "needs_background": "light"
     },
     "output_type": "display_data"
    }
   ],
   "source": [
    "plot_coast(spacing, z)"
   ]
  },
  {
   "cell_type": "markdown",
   "metadata": {},
   "source": [
    "## Assignment 7\n",
    "Create a new CEM run (remember to create a new  cem instance) with a more subdued river influx and higher waves. \n"
   ]
  },
  {
   "cell_type": "code",
   "execution_count": 34,
   "metadata": {},
   "outputs": [],
   "source": [
    "import pymt.models\n",
    "cemLR = pymt.models.Cem()"
   ]
  },
  {
   "cell_type": "code",
   "execution_count": 35,
   "metadata": {},
   "outputs": [],
   "source": [
    "args = cemLR.setup(number_of_rows=100, number_of_cols=200, grid_spacing=200.)"
   ]
  },
  {
   "cell_type": "code",
   "execution_count": 36,
   "metadata": {},
   "outputs": [],
   "source": [
    "cemLR.initialize(*args)"
   ]
  },
  {
   "cell_type": "code",
   "execution_count": 37,
   "metadata": {},
   "outputs": [
    {
     "data": {
      "text/plain": [
       "array([ 0.])"
      ]
     },
     "execution_count": 37,
     "metadata": {},
     "output_type": "execute_result"
    }
   ],
   "source": [
    "# Here you will have to change the settings to a different wave climate\n",
    "cemLR.set_value(\"sea_surface_water_wave__height\", 1.5)\n",
    "cemLR.set_value(\"sea_surface_water_wave__period\", 7.)\n",
    "cemLR.set_value(\"sea_surface_water_wave__azimuth_angle_of_opposite_of_phase_velocity\", 0. * np.pi / 180.)"
   ]
  },
  {
   "cell_type": "code",
   "execution_count": 38,
   "metadata": {},
   "outputs": [
    {
     "data": {
      "text/plain": [
       "array([[ -1. ,  -1. ,  -1. , ...,  -1. ,  -1. ,  -1. ],\n",
       "       [ -1. ,  -1. ,  -1. , ...,  -1. ,  -1. ,  -1. ],\n",
       "       [ -1. ,  -1. ,  -1. , ...,  -1. ,  -1. ,  -1. ],\n",
       "       ..., \n",
       "       [ 22.4,  22.4,  22.4, ...,  22.4,  22.4,  22.4],\n",
       "       [ 22.6,  22.6,  22.6, ...,  22.6,  22.6,  22.6],\n",
       "       [ 22.8,  22.8,  22.8, ...,  22.8,  22.8,  22.8]])"
      ]
     },
     "execution_count": 38,
     "metadata": {},
     "output_type": "execute_result"
    }
   ],
   "source": [
    "zLR = np.empty(shape, dtype=float)\n",
    "cemLR.get_value('sea_water__depth', out=zLR)"
   ]
  },
  {
   "cell_type": "code",
   "execution_count": 38,
   "metadata": {},
   "outputs": [],
   "source": [
    "# set your smaller river input here"
   ]
  },
  {
   "cell_type": "markdown",
   "metadata": {},
   "source": [
    "## Assignment 8"
   ]
  },
  {
   "cell_type": "code",
   "execution_count": 39,
   "metadata": {},
   "outputs": [
    {
     "ename": "NameError",
     "evalue": "name 'qsLR' is not defined",
     "output_type": "error",
     "traceback": [
      "\u001b[0;31m---------------------------------------------------------------------------\u001b[0m",
      "\u001b[0;31mNameError\u001b[0m                                 Traceback (most recent call last)",
      "\u001b[0;32m<ipython-input-39-22a6341fae32>\u001b[0m in \u001b[0;36m<module>\u001b[0;34m\u001b[0m\n\u001b[1;32m      2\u001b[0m \u001b[0;34m\u001b[0m\u001b[0m\n\u001b[1;32m      3\u001b[0m \u001b[0;32mfor\u001b[0m \u001b[0mtime\u001b[0m \u001b[0;32min\u001b[0m \u001b[0mrange\u001b[0m\u001b[0;34m(\u001b[0m\u001b[0;36m3000\u001b[0m\u001b[0;34m)\u001b[0m\u001b[0;34m:\u001b[0m\u001b[0;34m\u001b[0m\u001b[0;34m\u001b[0m\u001b[0m\n\u001b[0;32m----> 4\u001b[0;31m     \u001b[0mcemLR\u001b[0m\u001b[0;34m.\u001b[0m\u001b[0mset_value\u001b[0m\u001b[0;34m(\u001b[0m\u001b[0;34m'land_surface_water_sediment~bedload__mass_flow_rate'\u001b[0m\u001b[0;34m,\u001b[0m \u001b[0mqsLR\u001b[0m\u001b[0;34m)\u001b[0m\u001b[0;34m\u001b[0m\u001b[0;34m\u001b[0m\u001b[0m\n\u001b[0m\u001b[1;32m      5\u001b[0m     \u001b[0mcemLR\u001b[0m\u001b[0;34m.\u001b[0m\u001b[0mupdate_until\u001b[0m\u001b[0;34m(\u001b[0m\u001b[0mtime\u001b[0m\u001b[0;34m)\u001b[0m\u001b[0;34m\u001b[0m\u001b[0;34m\u001b[0m\u001b[0m\n\u001b[1;32m      6\u001b[0m \u001b[0;34m\u001b[0m\u001b[0m\n",
      "\u001b[0;31mNameError\u001b[0m: name 'qsLR' is not defined"
     ]
    }
   ],
   "source": [
    "# run your new simulation for a similar time as the other first simulation\n",
    "\n",
    "for time in range(3000):\n",
    "    cemLR.set_value('land_surface_water_sediment~bedload__mass_flow_rate', qsLR)\n",
    "    cemLR.update_until(time)\n",
    "    \n",
    "cemLR.get_value('sea_water__depth', out=zLR)"
   ]
  },
  {
   "cell_type": "code",
   "execution_count": null,
   "metadata": {},
   "outputs": [],
   "source": [
    "# hypothesize how your run output would be different"
   ]
  },
  {
   "cell_type": "code",
   "execution_count": null,
   "metadata": {},
   "outputs": [],
   "source": [
    "# plot the sea water depth\n",
    "# save out this figure"
   ]
  },
  {
   "cell_type": "markdown",
   "metadata": {},
   "source": [
    "## BONUS Assignment 9 - for graduate students\n",
    "Create a new CEM run (remember to create a new cem instance) that is all similar to your first simulation. \n",
    "In this experiment we will use a different incoming wave angle, and look at its effect without a river input first, 1000 timesteps and then with a river input for another 2000 timsteps."
   ]
  },
  {
   "cell_type": "code",
   "execution_count": null,
   "metadata": {},
   "outputs": [],
   "source": [
    "## initialize CEM instance"
   ]
  },
  {
   "cell_type": "code",
   "execution_count": null,
   "metadata": {},
   "outputs": [],
   "source": [
    "# set the wave angle"
   ]
  },
  {
   "cell_type": "code",
   "execution_count": null,
   "metadata": {},
   "outputs": [],
   "source": [
    "# run for 1000 timesteps"
   ]
  },
  {
   "cell_type": "code",
   "execution_count": null,
   "metadata": {},
   "outputs": [],
   "source": [
    "# plot intermediate output"
   ]
  },
  {
   "cell_type": "code",
   "execution_count": null,
   "metadata": {},
   "outputs": [],
   "source": [
    "# save out an array of this sea water depth at t=1000"
   ]
  },
  {
   "cell_type": "code",
   "execution_count": null,
   "metadata": {},
   "outputs": [],
   "source": [
    "# describe what effect you see. Is it to be expected? \n",
    "#What is the unique theory in the CEM model that drives this behavior?"
   ]
  },
  {
   "cell_type": "markdown",
   "metadata": {},
   "source": [
    "## BONUS Assignment 9 - for graduate students\n",
    "Use the same CEM run that you have just started. \n",
    "Keep the incoming wave angle you had specified,  and now run the rest of the simulation with a new river input for another 2000 timsteps. 'Place' the rivermouth out of center in the grid  (although not too close to the grid boundary, that can give instability problems)."
   ]
  },
  {
   "cell_type": "code",
   "execution_count": null,
   "metadata": {},
   "outputs": [],
   "source": [
    "# your code to introduce new river input goes here"
   ]
  },
  {
   "cell_type": "code",
   "execution_count": null,
   "metadata": {},
   "outputs": [],
   "source": [
    "# run an additional 2000 timesteps"
   ]
  },
  {
   "cell_type": "code",
   "execution_count": null,
   "metadata": {},
   "outputs": [],
   "source": [
    "# plot"
   ]
  },
  {
   "cell_type": "code",
   "execution_count": null,
   "metadata": {},
   "outputs": [],
   "source": [
    "# describe what effect you see. Is it to be expected? \n",
    "# Is this a fluvial-dominated delta or a wave-dominated delta? \n",
    "# Is the delta assymetric?"
   ]
  },
  {
   "cell_type": "code",
   "execution_count": null,
   "metadata": {},
   "outputs": [],
   "source": [
    "# save out the array of your final sea water depth\n",
    "# calculate the deposition and erosion per gridcell between t=1000 and t=3000"
   ]
  },
  {
   "cell_type": "markdown",
   "metadata": {},
   "source": [
    "## NICELY DONE! "
   ]
  }
 ],
 "metadata": {
  "kernelspec": {
   "display_name": "Python 3",
   "language": "python",
   "name": "python3"
  },
  "language_info": {
   "codemirror_mode": {
    "name": "ipython",
    "version": 3
   },
   "file_extension": ".py",
   "mimetype": "text/x-python",
   "name": "python",
   "nbconvert_exporter": "python",
   "pygments_lexer": "ipython3",
   "version": "3.6.10"
  }
 },
 "nbformat": 4,
 "nbformat_minor": 2
}
